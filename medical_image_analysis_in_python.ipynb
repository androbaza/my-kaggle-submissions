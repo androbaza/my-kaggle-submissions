{
  "nbformat": 4,
  "nbformat_minor": 0,
  "metadata": {
    "colab": {
      "name": "medical-image-analysis-in-python.ipynb",
      "provenance": [],
      "include_colab_link": true
    },
    "kernelspec": {
      "name": "python3",
      "display_name": "Python 3"
    },
    "language_info": {
      "name": "python"
    }
  },
  "cells": [
    {
      "cell_type": "markdown",
      "metadata": {
        "id": "view-in-github",
        "colab_type": "text"
      },
      "source": [
        "<a href=\"https://colab.research.google.com/github/androbaza/my-kaggle-submissions/blob/master/medical_image_analysis_in_python.ipynb\" target=\"_parent\"><img src=\"https://colab.research.google.com/assets/colab-badge.svg\" alt=\"Open In Colab\"/></a>"
      ]
    },
    {
      "cell_type": "markdown",
      "metadata": {
        "id": "tAoC-XQvIydl"
      },
      "source": [
        "# Installation"
      ]
    },
    {
      "cell_type": "code",
      "metadata": {
        "colab": {
          "base_uri": "https://localhost:8080/"
        },
        "id": "PVDq1TBrg--E",
        "outputId": "5094b7d7-6f4d-4a92-e676-1cea5f838eea"
      },
      "source": [
        "!pip install pydicom"
      ],
      "execution_count": 1,
      "outputs": [
        {
          "output_type": "stream",
          "text": [
            "Collecting pydicom\n",
            "\u001b[?25l  Downloading https://files.pythonhosted.org/packages/f4/15/df16546bc59bfca390cf072d473fb2c8acd4231636f64356593a63137e55/pydicom-2.1.2-py3-none-any.whl (1.9MB)\n",
            "\u001b[K     |████████████████████████████████| 1.9MB 10.7MB/s \n",
            "\u001b[?25hInstalling collected packages: pydicom\n",
            "Successfully installed pydicom-2.1.2\n"
          ],
          "name": "stdout"
        }
      ]
    },
    {
      "cell_type": "code",
      "metadata": {
        "colab": {
          "base_uri": "https://localhost:8080/"
        },
        "id": "BdwSrilWhFsr",
        "outputId": "008300e6-177e-40a2-a567-f2c56dab8776"
      },
      "source": [
        "!pip install kaggle"
      ],
      "execution_count": 2,
      "outputs": [
        {
          "output_type": "stream",
          "text": [
            "Requirement already satisfied: kaggle in /usr/local/lib/python3.7/dist-packages (1.5.12)\n",
            "Requirement already satisfied: tqdm in /usr/local/lib/python3.7/dist-packages (from kaggle) (4.41.1)\n",
            "Requirement already satisfied: python-slugify in /usr/local/lib/python3.7/dist-packages (from kaggle) (4.0.1)\n",
            "Requirement already satisfied: certifi in /usr/local/lib/python3.7/dist-packages (from kaggle) (2020.12.5)\n",
            "Requirement already satisfied: six>=1.10 in /usr/local/lib/python3.7/dist-packages (from kaggle) (1.15.0)\n",
            "Requirement already satisfied: urllib3 in /usr/local/lib/python3.7/dist-packages (from kaggle) (1.24.3)\n",
            "Requirement already satisfied: requests in /usr/local/lib/python3.7/dist-packages (from kaggle) (2.23.0)\n",
            "Requirement already satisfied: python-dateutil in /usr/local/lib/python3.7/dist-packages (from kaggle) (2.8.1)\n",
            "Requirement already satisfied: text-unidecode>=1.3 in /usr/local/lib/python3.7/dist-packages (from python-slugify->kaggle) (1.3)\n",
            "Requirement already satisfied: chardet<4,>=3.0.2 in /usr/local/lib/python3.7/dist-packages (from requests->kaggle) (3.0.4)\n",
            "Requirement already satisfied: idna<3,>=2.5 in /usr/local/lib/python3.7/dist-packages (from requests->kaggle) (2.10)\n"
          ],
          "name": "stdout"
        }
      ]
    },
    {
      "cell_type": "code",
      "metadata": {
        "colab": {
          "resources": {
            "http://localhost:8080/nbextensions/google.colab/files.js": {
              "data": "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",
              "ok": true,
              "headers": [
                [
                  "content-type",
                  "application/javascript"
                ]
              ],
              "status": 200,
              "status_text": ""
            }
          },
          "base_uri": "https://localhost:8080/",
          "height": 89
        },
        "id": "F6n_7Q8bhMmC",
        "outputId": "d703b5a8-eff2-42d6-e967-5deea086f69a"
      },
      "source": [
        "from google.colab import files\n",
        "\n",
        "uploaded = files.upload()\n",
        "\n",
        "for fn in uploaded.keys():\n",
        "  print('User uploaded file \"{name}\" with length {length} bytes'.format(\n",
        "      name=fn, length=len(uploaded[fn])))"
      ],
      "execution_count": 3,
      "outputs": [
        {
          "output_type": "display_data",
          "data": {
            "text/html": [
              "\n",
              "     <input type=\"file\" id=\"files-85c3a212-23ed-40e9-9ec0-dfd7dd305526\" name=\"files[]\" multiple disabled\n",
              "        style=\"border:none\" />\n",
              "     <output id=\"result-85c3a212-23ed-40e9-9ec0-dfd7dd305526\">\n",
              "      Upload widget is only available when the cell has been executed in the\n",
              "      current browser session. Please rerun this cell to enable.\n",
              "      </output>\n",
              "      <script src=\"/nbextensions/google.colab/files.js\"></script> "
            ],
            "text/plain": [
              "<IPython.core.display.HTML object>"
            ]
          },
          "metadata": {
            "tags": []
          }
        },
        {
          "output_type": "stream",
          "text": [
            "Saving kaggle.json to kaggle.json\n",
            "User uploaded file \"kaggle.json\" with length 65 bytes\n"
          ],
          "name": "stdout"
        }
      ]
    },
    {
      "cell_type": "code",
      "metadata": {
        "id": "7dNk0xSthfSX"
      },
      "source": [
        "!mkdir -p ~/.kaggle/ && mv kaggle.json ~/.kaggle/ && chmod 600 ~/.kaggle/kaggle.json"
      ],
      "execution_count": 4,
      "outputs": []
    },
    {
      "cell_type": "code",
      "metadata": {
        "id": "eoEth1eDiU0C"
      },
      "source": [
        "# !pip install --upgrade --force-reinstall --no-deps kaggle"
      ],
      "execution_count": 5,
      "outputs": []
    },
    {
      "cell_type": "code",
      "metadata": {
        "colab": {
          "base_uri": "https://localhost:8080/"
        },
        "id": "g2QjfEJBhHIc",
        "outputId": "1c1b6f38-7f9d-4365-e7a2-29f73e58d72a"
      },
      "source": [
        "!kaggle competitions download -c siim-acr-pneumothorax-segmentation"
      ],
      "execution_count": 6,
      "outputs": [
        {
          "output_type": "stream",
          "text": [
            "Warning: Looks like you're using an outdated API Version, please consider updating (server 1.5.12 / client 1.5.4)\n",
            "Downloading ID_00f04769e.dcm to /content\n",
            "  0% 0.00/153k [00:00<?, ?B/s]\n",
            "100% 153k/153k [00:00<00:00, 57.4MB/s]\n",
            "Downloading ID_00f715288.dcm to /content\n",
            "  0% 0.00/111k [00:00<?, ?B/s]\n",
            "100% 111k/111k [00:00<00:00, 54.6MB/s]\n",
            "Downloading ID_01fe90211.dcm to /content\n",
            "  0% 0.00/155k [00:00<?, ?B/s]\n",
            "100% 155k/155k [00:00<00:00, 49.8MB/s]\n",
            "Downloading ID_0159b1d59.dcm to /content\n",
            "  0% 0.00/153k [00:00<?, ?B/s]\n",
            "100% 153k/153k [00:00<00:00, 47.2MB/s]\n",
            "Downloading ID_017bd788a.dcm to /content\n",
            "  0% 0.00/125k [00:00<?, ?B/s]\n",
            "100% 125k/125k [00:00<00:00, 110MB/s]\n",
            "Downloading ID_01bbf9032.dcm to /content\n",
            "  0% 0.00/131k [00:00<?, ?B/s]\n",
            "100% 131k/131k [00:00<00:00, 42.6MB/s]\n",
            "Downloading ID_004d72c54.dcm to /content\n",
            "  0% 0.00/106k [00:00<?, ?B/s]\n",
            "100% 106k/106k [00:00<00:00, 33.9MB/s]\n",
            "Downloading ID_00b115bfe.dcm to /content\n",
            "  0% 0.00/114k [00:00<?, ?B/s]\n",
            "100% 114k/114k [00:00<00:00, 37.0MB/s]\n",
            "Downloading ID_00593ac6d.dcm to /content\n",
            "  0% 0.00/151k [00:00<?, ?B/s]\n",
            "100% 151k/151k [00:00<00:00, 41.7MB/s]\n",
            "Downloading ID_0194bdd5a.dcm to /content\n",
            "  0% 0.00/97.3k [00:00<?, ?B/s]\n",
            "100% 97.3k/97.3k [00:00<00:00, 92.8MB/s]\n",
            "Downloading ID_018f96b48.dcm to /content\n",
            "  0% 0.00/89.8k [00:00<?, ?B/s]\n",
            "100% 89.8k/89.8k [00:00<00:00, 73.8MB/s]\n",
            "Downloading ID_01c754b4a.dcm to /content\n",
            "  0% 0.00/130k [00:00<?, ?B/s]\n",
            "100% 130k/130k [00:00<00:00, 115MB/s]\n",
            "Downloading ID_003206608.dcm to /content\n",
            "  0% 0.00/148k [00:00<?, ?B/s]\n",
            "100% 148k/148k [00:00<00:00, 47.2MB/s]\n",
            "Downloading ID_00b0e5a9f.dcm to /content\n",
            "  0% 0.00/159k [00:00<?, ?B/s]\n",
            "100% 159k/159k [00:00<00:00, 78.2MB/s]\n",
            "Downloading ID_01a3312da.dcm to /content\n",
            "  0% 0.00/150k [00:00<?, ?B/s]\n",
            "100% 150k/150k [00:00<00:00, 49.3MB/s]\n",
            "Downloading ID_004d6fbb6.dcm to /content\n",
            "  0% 0.00/140k [00:00<?, ?B/s]\n",
            "100% 140k/140k [00:00<00:00, 45.1MB/s]\n",
            "Downloading ID_00528aa0e.dcm to /content\n",
            "  0% 0.00/110k [00:00<?, ?B/s]\n",
            "100% 110k/110k [00:00<00:00, 67.0MB/s]\n",
            "Downloading ID_010566ba9.dcm to /content\n",
            "  0% 0.00/113k [00:00<?, ?B/s]\n",
            "100% 113k/113k [00:00<00:00, 34.9MB/s]\n",
            "Downloading ID_0011fe81e.dcm to /content\n",
            "  0% 0.00/138k [00:00<?, ?B/s]\n",
            "100% 138k/138k [00:00<00:00, 44.2MB/s]\n",
            "Downloading ID_00d054471.dcm to /content\n",
            "  0% 0.00/130k [00:00<?, ?B/s]\n",
            "100% 130k/130k [00:00<00:00, 113MB/s]\n",
            "Downloading stage_2_train.csv.zip to /content\n",
            "  0% 0.00/1.17M [00:00<?, ?B/s]\n",
            "100% 1.17M/1.17M [00:00<00:00, 78.5MB/s]\n",
            "Downloading stage_2_sample_submission.csv to /content\n",
            "  0% 0.00/50.1k [00:00<?, ?B/s]\n",
            "100% 50.1k/50.1k [00:00<00:00, 49.6MB/s]\n",
            "Downloading download_images.py to /content\n",
            "  0% 0.00/3.61k [00:00<?, ?B/s]\n",
            "100% 3.61k/3.61k [00:00<00:00, 3.18MB/s]\n",
            "Downloading mask_functions.py to /content\n",
            "  0% 0.00/1.19k [00:00<?, ?B/s]\n",
            "100% 1.19k/1.19k [00:00<00:00, 1.16MB/s]\n"
          ],
          "name": "stdout"
        }
      ]
    },
    {
      "cell_type": "code",
      "metadata": {
        "colab": {
          "base_uri": "https://localhost:8080/"
        },
        "id": "MD7AmJhchKQ2",
        "outputId": "212550d3-0e8e-4f33-a1e5-43abe4861802"
      },
      "source": [
        "!pip install nibabel"
      ],
      "execution_count": 7,
      "outputs": [
        {
          "output_type": "stream",
          "text": [
            "Requirement already satisfied: nibabel in /usr/local/lib/python3.7/dist-packages (3.0.2)\n",
            "Requirement already satisfied: numpy>=1.12 in /usr/local/lib/python3.7/dist-packages (from nibabel) (1.19.5)\n"
          ],
          "name": "stdout"
        }
      ]
    },
    {
      "cell_type": "code",
      "metadata": {
        "colab": {
          "base_uri": "https://localhost:8080/"
        },
        "id": "q4QFSWu0hvhQ",
        "outputId": "92d3a6ad-fff2-4b88-e215-37c885bef3c0"
      },
      "source": [
        "!kaggle datasets download -d andrewmvd/liver-tumor-segmentation"
      ],
      "execution_count": 8,
      "outputs": [
        {
          "output_type": "stream",
          "text": [
            "Downloading liver-tumor-segmentation.zip to /content\n",
            "100% 4.83G/4.84G [01:13<00:00, 72.5MB/s]\n",
            "100% 4.84G/4.84G [01:13<00:00, 70.3MB/s]\n"
          ],
          "name": "stdout"
        }
      ]
    },
    {
      "cell_type": "code",
      "metadata": {
        "colab": {
          "base_uri": "https://localhost:8080/"
        },
        "id": "t_YotAVphx37",
        "outputId": "0f79c3cd-1ec2-4e37-bec1-a4b21aa2f8a8"
      },
      "source": [
        "!unzip liver-tumor-segmentation.zip"
      ],
      "execution_count": 9,
      "outputs": [
        {
          "output_type": "stream",
          "text": [
            "Archive:  liver-tumor-segmentation.zip\n",
            "  inflating: segmentations/segmentation-0.nii  \n",
            "  inflating: segmentations/segmentation-1.nii  \n",
            "  inflating: segmentations/segmentation-10.nii  \n",
            "  inflating: segmentations/segmentation-100.nii  \n",
            "  inflating: segmentations/segmentation-101.nii  \n",
            "  inflating: segmentations/segmentation-102.nii  \n",
            "  inflating: segmentations/segmentation-103.nii  \n",
            "  inflating: segmentations/segmentation-104.nii  \n",
            "  inflating: segmentations/segmentation-105.nii  \n",
            "  inflating: segmentations/segmentation-106.nii  \n",
            "  inflating: segmentations/segmentation-107.nii  \n",
            "  inflating: segmentations/segmentation-108.nii  \n",
            "  inflating: segmentations/segmentation-109.nii  \n",
            "  inflating: segmentations/segmentation-11.nii  \n",
            "  inflating: segmentations/segmentation-110.nii  \n",
            "  inflating: segmentations/segmentation-111.nii  \n",
            "  inflating: segmentations/segmentation-112.nii  \n",
            "  inflating: segmentations/segmentation-113.nii  \n",
            "  inflating: segmentations/segmentation-114.nii  \n",
            "  inflating: segmentations/segmentation-115.nii  \n",
            "  inflating: segmentations/segmentation-116.nii  \n",
            "  inflating: segmentations/segmentation-117.nii  \n",
            "  inflating: segmentations/segmentation-118.nii  \n",
            "  inflating: segmentations/segmentation-119.nii  \n",
            "  inflating: segmentations/segmentation-12.nii  \n",
            "  inflating: segmentations/segmentation-120.nii  \n",
            "  inflating: segmentations/segmentation-121.nii  \n",
            "  inflating: segmentations/segmentation-122.nii  \n",
            "  inflating: segmentations/segmentation-123.nii  \n",
            "  inflating: segmentations/segmentation-124.nii  \n",
            "  inflating: segmentations/segmentation-125.nii  \n",
            "  inflating: segmentations/segmentation-126.nii  \n",
            "  inflating: segmentations/segmentation-127.nii  \n",
            "  inflating: segmentations/segmentation-128.nii  \n",
            "  inflating: segmentations/segmentation-129.nii  \n",
            "  inflating: segmentations/segmentation-13.nii  \n",
            "  inflating: segmentations/segmentation-130.nii  \n",
            "  inflating: segmentations/segmentation-14.nii  \n",
            "  inflating: segmentations/segmentation-15.nii  \n",
            "  inflating: segmentations/segmentation-16.nii  \n",
            "  inflating: segmentations/segmentation-17.nii  \n",
            "  inflating: segmentations/segmentation-18.nii  \n",
            "  inflating: segmentations/segmentation-19.nii  \n",
            "  inflating: segmentations/segmentation-2.nii  \n",
            "  inflating: segmentations/segmentation-20.nii  \n",
            "  inflating: segmentations/segmentation-21.nii  \n",
            "  inflating: segmentations/segmentation-22.nii  \n",
            "  inflating: segmentations/segmentation-23.nii  \n",
            "  inflating: segmentations/segmentation-24.nii  \n",
            "  inflating: segmentations/segmentation-25.nii  \n",
            "  inflating: segmentations/segmentation-26.nii  \n",
            "  inflating: segmentations/segmentation-27.nii  \n",
            "  inflating: segmentations/segmentation-28.nii  \n",
            "  inflating: segmentations/segmentation-29.nii  \n",
            "  inflating: segmentations/segmentation-3.nii  \n",
            "  inflating: segmentations/segmentation-30.nii  \n",
            "  inflating: segmentations/segmentation-31.nii  \n",
            "  inflating: segmentations/segmentation-32.nii  \n",
            "  inflating: segmentations/segmentation-33.nii  \n",
            "  inflating: segmentations/segmentation-34.nii  \n",
            "  inflating: segmentations/segmentation-35.nii  \n",
            "  inflating: segmentations/segmentation-36.nii  \n",
            "  inflating: segmentations/segmentation-37.nii  \n",
            "  inflating: segmentations/segmentation-38.nii  \n",
            "  inflating: segmentations/segmentation-39.nii  \n",
            "  inflating: segmentations/segmentation-4.nii  \n",
            "  inflating: segmentations/segmentation-40.nii  \n",
            "  inflating: segmentations/segmentation-41.nii  \n",
            "  inflating: segmentations/segmentation-42.nii  \n",
            "  inflating: segmentations/segmentation-43.nii  \n",
            "  inflating: segmentations/segmentation-44.nii  \n",
            "  inflating: segmentations/segmentation-45.nii  \n",
            "  inflating: segmentations/segmentation-46.nii  \n",
            "  inflating: segmentations/segmentation-47.nii  \n",
            "  inflating: segmentations/segmentation-48.nii  \n",
            "  inflating: segmentations/segmentation-49.nii  \n",
            "  inflating: segmentations/segmentation-5.nii  \n",
            "  inflating: segmentations/segmentation-50.nii  \n",
            "  inflating: segmentations/segmentation-51.nii  \n",
            "  inflating: segmentations/segmentation-52.nii  \n",
            "  inflating: segmentations/segmentation-53.nii  \n",
            "  inflating: segmentations/segmentation-54.nii  \n",
            "  inflating: segmentations/segmentation-55.nii  \n",
            "  inflating: segmentations/segmentation-56.nii  \n",
            "  inflating: segmentations/segmentation-57.nii  \n",
            "  inflating: segmentations/segmentation-58.nii  \n",
            "  inflating: segmentations/segmentation-59.nii  \n",
            "  inflating: segmentations/segmentation-6.nii  \n",
            "  inflating: segmentations/segmentation-60.nii  \n",
            "  inflating: segmentations/segmentation-61.nii  \n",
            "  inflating: segmentations/segmentation-62.nii  \n",
            "  inflating: segmentations/segmentation-63.nii  \n",
            "  inflating: segmentations/segmentation-64.nii  \n",
            "  inflating: segmentations/segmentation-65.nii  \n",
            "  inflating: segmentations/segmentation-66.nii  \n",
            "  inflating: segmentations/segmentation-67.nii  \n",
            "  inflating: segmentations/segmentation-68.nii  \n",
            "  inflating: segmentations/segmentation-69.nii  \n",
            "  inflating: segmentations/segmentation-7.nii  \n",
            "  inflating: segmentations/segmentation-70.nii  \n",
            "  inflating: segmentations/segmentation-71.nii  \n",
            "  inflating: segmentations/segmentation-72.nii  \n",
            "  inflating: segmentations/segmentation-73.nii  \n",
            "  inflating: segmentations/segmentation-74.nii  \n",
            "  inflating: segmentations/segmentation-75.nii  \n",
            "  inflating: segmentations/segmentation-76.nii  \n",
            "  inflating: segmentations/segmentation-77.nii  \n",
            "  inflating: segmentations/segmentation-78.nii  \n",
            "  inflating: segmentations/segmentation-79.nii  \n",
            "  inflating: segmentations/segmentation-8.nii  \n",
            "  inflating: segmentations/segmentation-80.nii  \n",
            "  inflating: segmentations/segmentation-81.nii  \n",
            "  inflating: segmentations/segmentation-82.nii  \n",
            "  inflating: segmentations/segmentation-83.nii  \n",
            "  inflating: segmentations/segmentation-84.nii  \n",
            "  inflating: segmentations/segmentation-85.nii  \n",
            "  inflating: segmentations/segmentation-86.nii  \n",
            "  inflating: segmentations/segmentation-87.nii  \n",
            "  inflating: segmentations/segmentation-88.nii  \n",
            "  inflating: segmentations/segmentation-89.nii  \n",
            "  inflating: segmentations/segmentation-9.nii  \n",
            "  inflating: segmentations/segmentation-90.nii  \n",
            "  inflating: segmentations/segmentation-91.nii  \n",
            "  inflating: segmentations/segmentation-92.nii  \n",
            "  inflating: segmentations/segmentation-93.nii  \n",
            "  inflating: segmentations/segmentation-94.nii  \n",
            "  inflating: segmentations/segmentation-95.nii  \n",
            "  inflating: segmentations/segmentation-96.nii  \n",
            "  inflating: segmentations/segmentation-97.nii  \n",
            "  inflating: segmentations/segmentation-98.nii  \n",
            "  inflating: segmentations/segmentation-99.nii  \n",
            "  inflating: volume_pt1/volume-0.nii  \n",
            "  inflating: volume_pt1/volume-1.nii  \n",
            "  inflating: volume_pt1/volume-10.nii  \n",
            "  inflating: volume_pt1/volume-2.nii  \n",
            "  inflating: volume_pt1/volume-3.nii  \n",
            "  inflating: volume_pt1/volume-4.nii  \n",
            "  inflating: volume_pt1/volume-5.nii  \n",
            "  inflating: volume_pt1/volume-6.nii  \n",
            "  inflating: volume_pt1/volume-7.nii  \n",
            "  inflating: volume_pt1/volume-8.nii  \n",
            "  inflating: volume_pt1/volume-9.nii  \n",
            "  inflating: volume_pt2/volume-11.nii  \n",
            "  inflating: volume_pt2/volume-12.nii  \n",
            "  inflating: volume_pt2/volume-13.nii  \n",
            "  inflating: volume_pt2/volume-14.nii  \n",
            "  inflating: volume_pt2/volume-15.nii  \n",
            "  inflating: volume_pt2/volume-16.nii  \n",
            "  inflating: volume_pt2/volume-17.nii  \n",
            "  inflating: volume_pt2/volume-18.nii  \n",
            "  inflating: volume_pt2/volume-19.nii  \n",
            "  inflating: volume_pt2/volume-20.nii  \n",
            "  inflating: volume_pt3/volume-21.nii  \n",
            "  inflating: volume_pt3/volume-22.nii  \n",
            "  inflating: volume_pt3/volume-23.nii  \n",
            "  inflating: volume_pt3/volume-24.nii  \n",
            "  inflating: volume_pt3/volume-25.nii  \n",
            "  inflating: volume_pt3/volume-26.nii  \n",
            "  inflating: volume_pt3/volume-27.nii  \n",
            "  inflating: volume_pt3/volume-28.nii  \n",
            "  inflating: volume_pt3/volume-29.nii  \n",
            "  inflating: volume_pt3/volume-30.nii  \n",
            "  inflating: volume_pt4/volume-31.nii  \n",
            "  inflating: volume_pt4/volume-32.nii  \n",
            "  inflating: volume_pt4/volume-33.nii  \n",
            "  inflating: volume_pt4/volume-34.nii  \n",
            "  inflating: volume_pt4/volume-35.nii  \n",
            "  inflating: volume_pt4/volume-36.nii  \n",
            "  inflating: volume_pt4/volume-37.nii  \n",
            "  inflating: volume_pt4/volume-38.nii  \n",
            "  inflating: volume_pt4/volume-39.nii  \n",
            "  inflating: volume_pt4/volume-40.nii  \n",
            "  inflating: volume_pt5/volume-41.nii  \n",
            "  inflating: volume_pt5/volume-42.nii  \n",
            "  inflating: volume_pt5/volume-43.nii  \n",
            "  inflating: volume_pt5/volume-44.nii  \n",
            "  inflating: volume_pt5/volume-45.nii  \n",
            "  inflating: volume_pt5/volume-46.nii  \n",
            "  inflating: volume_pt5/volume-47.nii  \n",
            "  inflating: volume_pt5/volume-48.nii  \n",
            "  inflating: volume_pt5/volume-49.nii  \n",
            "  inflating: volume_pt5/volume-50.nii  \n"
          ],
          "name": "stdout"
        }
      ]
    },
    {
      "cell_type": "code",
      "metadata": {
        "colab": {
          "base_uri": "https://localhost:8080/",
          "height": 1000
        },
        "id": "nT2om6aHhzQP",
        "outputId": "a27812af-3929-441d-885d-f0f5c0e6cf51"
      },
      "source": [
        "!pip install lungs-segmentation"
      ],
      "execution_count": 10,
      "outputs": [
        {
          "output_type": "stream",
          "text": [
            "Collecting lungs-segmentation\n",
            "  Downloading https://files.pythonhosted.org/packages/6f/d7/623a222151a50c2b3034c4a25fb036355b0959bdbb95e44e638dc90614e3/lungs_segmentation-1.1.2-py2.py3-none-any.whl\n",
            "Collecting torchvision==0.8.2\n",
            "\u001b[?25l  Downloading https://files.pythonhosted.org/packages/94/df/969e69a94cff1c8911acb0688117f95e1915becc1e01c73e7960a2c76ec8/torchvision-0.8.2-cp37-cp37m-manylinux1_x86_64.whl (12.8MB)\n",
            "\u001b[K     |████████████████████████████████| 12.8MB 292kB/s \n",
            "\u001b[?25hCollecting matplotlib==3.1.3\n",
            "\u001b[?25l  Downloading https://files.pythonhosted.org/packages/4c/9b/35ab3469fd1509f7636a344940569ebfd33239673fd2318e80b4700a257c/matplotlib-3.1.3-cp37-cp37m-manylinux1_x86_64.whl (13.1MB)\n",
            "\u001b[K     |████████████████████████████████| 13.1MB 192kB/s \n",
            "\u001b[?25hCollecting opencv-python==4.2.0.34\n",
            "\u001b[?25l  Downloading https://files.pythonhosted.org/packages/d0/f0/cfe88d262c67825b20d396c778beca21829da061717c7aaa8b421ae5132e/opencv_python-4.2.0.34-cp37-cp37m-manylinux1_x86_64.whl (28.2MB)\n",
            "\u001b[K     |████████████████████████████████| 28.2MB 159kB/s \n",
            "\u001b[?25hCollecting typing==3.6.4\n",
            "  Downloading https://files.pythonhosted.org/packages/05/2b/2b05bf1d5a9dd450447c9a5df3e118a465e5d3cb12b73b7220a5064a403f/typing-3.6.4-py3-none-any.whl\n",
            "Collecting setuptools==49.2.0\n",
            "\u001b[?25l  Downloading https://files.pythonhosted.org/packages/8e/11/9e10f1cad4518cb307b484c255cae61e97f05b82f6d536932b1714e01b47/setuptools-49.2.0-py3-none-any.whl (789kB)\n",
            "\u001b[K     |████████████████████████████████| 798kB 54.4MB/s \n",
            "\u001b[?25hCollecting albumentations==0.5.2\n",
            "\u001b[?25l  Downloading https://files.pythonhosted.org/packages/03/58/63fb1d742dc42d9ba2800ea741de1f2bc6bb05548d8724aa84794042eaf2/albumentations-0.5.2-py3-none-any.whl (72kB)\n",
            "\u001b[K     |████████████████████████████████| 81kB 8.7MB/s \n",
            "\u001b[?25hCollecting numpy==1.17.4\n",
            "\u001b[?25l  Downloading https://files.pythonhosted.org/packages/9b/af/4fc72f9d38e43b092e91e5b8cb9956d25b2e3ff8c75aed95df5569e4734e/numpy-1.17.4-cp37-cp37m-manylinux1_x86_64.whl (20.0MB)\n",
            "\u001b[K     |████████████████████████████████| 20.0MB 1.5MB/s \n",
            "\u001b[?25hCollecting torch==1.7.1\n",
            "\u001b[?25l  Downloading https://files.pythonhosted.org/packages/90/5d/095ddddc91c8a769a68c791c019c5793f9c4456a688ddd235d6670924ecb/torch-1.7.1-cp37-cp37m-manylinux1_x86_64.whl (776.8MB)\n",
            "\u001b[K     |████████████████████████████████| 776.8MB 23kB/s \n",
            "\u001b[?25hRequirement already satisfied: pillow>=4.1.1 in /usr/local/lib/python3.7/dist-packages (from torchvision==0.8.2->lungs-segmentation) (7.1.2)\n",
            "Requirement already satisfied: pyparsing!=2.0.4,!=2.1.2,!=2.1.6,>=2.0.1 in /usr/local/lib/python3.7/dist-packages (from matplotlib==3.1.3->lungs-segmentation) (2.4.7)\n",
            "Requirement already satisfied: cycler>=0.10 in /usr/local/lib/python3.7/dist-packages (from matplotlib==3.1.3->lungs-segmentation) (0.10.0)\n",
            "Requirement already satisfied: python-dateutil>=2.1 in /usr/local/lib/python3.7/dist-packages (from matplotlib==3.1.3->lungs-segmentation) (2.8.1)\n",
            "Requirement already satisfied: kiwisolver>=1.0.1 in /usr/local/lib/python3.7/dist-packages (from matplotlib==3.1.3->lungs-segmentation) (1.3.1)\n",
            "Requirement already satisfied: scipy in /usr/local/lib/python3.7/dist-packages (from albumentations==0.5.2->lungs-segmentation) (1.4.1)\n",
            "Requirement already satisfied: scikit-image>=0.16.1 in /usr/local/lib/python3.7/dist-packages (from albumentations==0.5.2->lungs-segmentation) (0.16.2)\n",
            "Requirement already satisfied: PyYAML in /usr/local/lib/python3.7/dist-packages (from albumentations==0.5.2->lungs-segmentation) (3.13)\n",
            "Collecting opencv-python-headless>=4.1.1\n",
            "\u001b[?25l  Downloading https://files.pythonhosted.org/packages/6d/6d/92f377bece9b0ec9c893081dbe073a65b38d7ac12ef572b8f70554d08760/opencv_python_headless-4.5.1.48-cp37-cp37m-manylinux2014_x86_64.whl (37.6MB)\n",
            "\u001b[K     |████████████████████████████████| 37.6MB 103kB/s \n",
            "\u001b[?25hCollecting imgaug>=0.4.0\n",
            "\u001b[?25l  Downloading https://files.pythonhosted.org/packages/66/b1/af3142c4a85cba6da9f4ebb5ff4e21e2616309552caca5e8acefe9840622/imgaug-0.4.0-py2.py3-none-any.whl (948kB)\n",
            "\u001b[K     |████████████████████████████████| 952kB 46.6MB/s \n",
            "\u001b[?25hRequirement already satisfied: typing-extensions in /usr/local/lib/python3.7/dist-packages (from torch==1.7.1->lungs-segmentation) (3.7.4.3)\n",
            "Requirement already satisfied: six in /usr/local/lib/python3.7/dist-packages (from cycler>=0.10->matplotlib==3.1.3->lungs-segmentation) (1.15.0)\n",
            "Requirement already satisfied: networkx>=2.0 in /usr/local/lib/python3.7/dist-packages (from scikit-image>=0.16.1->albumentations==0.5.2->lungs-segmentation) (2.5)\n",
            "Requirement already satisfied: PyWavelets>=0.4.0 in /usr/local/lib/python3.7/dist-packages (from scikit-image>=0.16.1->albumentations==0.5.2->lungs-segmentation) (1.1.1)\n",
            "Requirement already satisfied: imageio>=2.3.0 in /usr/local/lib/python3.7/dist-packages (from scikit-image>=0.16.1->albumentations==0.5.2->lungs-segmentation) (2.4.1)\n",
            "Requirement already satisfied: Shapely in /usr/local/lib/python3.7/dist-packages (from imgaug>=0.4.0->albumentations==0.5.2->lungs-segmentation) (1.7.1)\n",
            "Requirement already satisfied: decorator>=4.3.0 in /usr/local/lib/python3.7/dist-packages (from networkx>=2.0->scikit-image>=0.16.1->albumentations==0.5.2->lungs-segmentation) (4.4.2)\n",
            "\u001b[31mERROR: torchtext 0.9.1 has requirement torch==1.8.1, but you'll have torch 1.7.1 which is incompatible.\u001b[0m\n",
            "\u001b[31mERROR: tensorflow 2.4.1 has requirement numpy~=1.19.2, but you'll have numpy 1.17.4 which is incompatible.\u001b[0m\n",
            "\u001b[31mERROR: datascience 0.10.6 has requirement folium==0.2.1, but you'll have folium 0.8.3 which is incompatible.\u001b[0m\n",
            "Installing collected packages: numpy, torch, torchvision, matplotlib, opencv-python, typing, setuptools, opencv-python-headless, imgaug, albumentations, lungs-segmentation\n",
            "  Found existing installation: numpy 1.19.5\n",
            "    Uninstalling numpy-1.19.5:\n",
            "      Successfully uninstalled numpy-1.19.5\n",
            "  Found existing installation: torch 1.8.1+cu101\n",
            "    Uninstalling torch-1.8.1+cu101:\n",
            "      Successfully uninstalled torch-1.8.1+cu101\n",
            "  Found existing installation: torchvision 0.9.1+cu101\n",
            "    Uninstalling torchvision-0.9.1+cu101:\n",
            "      Successfully uninstalled torchvision-0.9.1+cu101\n",
            "  Found existing installation: matplotlib 3.2.2\n",
            "    Uninstalling matplotlib-3.2.2:\n",
            "      Successfully uninstalled matplotlib-3.2.2\n",
            "  Found existing installation: opencv-python 4.1.2.30\n",
            "    Uninstalling opencv-python-4.1.2.30:\n",
            "      Successfully uninstalled opencv-python-4.1.2.30\n",
            "  Found existing installation: setuptools 54.2.0\n",
            "    Uninstalling setuptools-54.2.0:\n",
            "      Successfully uninstalled setuptools-54.2.0\n",
            "  Found existing installation: imgaug 0.2.9\n",
            "    Uninstalling imgaug-0.2.9:\n",
            "      Successfully uninstalled imgaug-0.2.9\n",
            "  Found existing installation: albumentations 0.1.12\n",
            "    Uninstalling albumentations-0.1.12:\n",
            "      Successfully uninstalled albumentations-0.1.12\n",
            "Successfully installed albumentations-0.5.2 imgaug-0.4.0 lungs-segmentation-1.1.2 matplotlib-3.1.3 numpy-1.17.4 opencv-python-4.2.0.34 opencv-python-headless-4.5.1.48 setuptools-49.2.0 torch-1.7.1 torchvision-0.8.2 typing-3.6.4\n"
          ],
          "name": "stdout"
        },
        {
          "output_type": "display_data",
          "data": {
            "application/vnd.colab-display-data+json": {
              "pip_warning": {
                "packages": [
                  "matplotlib",
                  "mpl_toolkits",
                  "numpy",
                  "pkg_resources",
                  "typing"
                ]
              }
            }
          },
          "metadata": {
            "tags": []
          }
        }
      ]
    },
    {
      "cell_type": "code",
      "metadata": {
        "colab": {
          "base_uri": "https://localhost:8080/"
        },
        "id": "P1v4OwRHh5h6",
        "outputId": "e800fdad-c1e5-4ba3-b251-d998b7164c64"
      },
      "source": [
        "!pip install git+https://github.com/JoHof/lungmask"
      ],
      "execution_count": 11,
      "outputs": [
        {
          "output_type": "stream",
          "text": [
            "Collecting git+https://github.com/JoHof/lungmask\n",
            "  Cloning https://github.com/JoHof/lungmask to /tmp/pip-req-build-45991m3_\n",
            "  Running command git clone -q https://github.com/JoHof/lungmask /tmp/pip-req-build-45991m3_\n",
            "Requirement already satisfied: pydicom in /usr/local/lib/python3.7/dist-packages (from lungmask==0.2.8) (2.1.2)\n",
            "Requirement already satisfied: numpy in /usr/local/lib/python3.7/dist-packages (from lungmask==0.2.8) (1.17.4)\n",
            "Requirement already satisfied: torch in /usr/local/lib/python3.7/dist-packages (from lungmask==0.2.8) (1.7.1)\n",
            "Requirement already satisfied: scipy in /usr/local/lib/python3.7/dist-packages (from lungmask==0.2.8) (1.4.1)\n",
            "Collecting SimpleITK\n",
            "\u001b[?25l  Downloading https://files.pythonhosted.org/packages/9c/6b/85df5eb3a8059b23a53a9f224476e75473f9bcc0a8583ed1a9c34619f372/SimpleITK-2.0.2-cp37-cp37m-manylinux2010_x86_64.whl (47.4MB)\n",
            "\u001b[K     |████████████████████████████████| 47.4MB 89kB/s \n",
            "\u001b[?25hRequirement already satisfied: tqdm in /usr/local/lib/python3.7/dist-packages (from lungmask==0.2.8) (4.41.1)\n",
            "Requirement already satisfied: scikit-image in /usr/local/lib/python3.7/dist-packages (from lungmask==0.2.8) (0.16.2)\n",
            "Collecting fill_voids\n",
            "\u001b[?25l  Downloading https://files.pythonhosted.org/packages/05/0d/c5368aac2004d25fe78763b4916d53aaedca5658afade1cc6f1ff0fe1376/fill_voids-2.0.1-cp37-cp37m-manylinux2014_x86_64.whl (1.2MB)\n",
            "\u001b[K     |████████████████████████████████| 1.2MB 38.0MB/s \n",
            "\u001b[?25hRequirement already satisfied: typing-extensions in /usr/local/lib/python3.7/dist-packages (from torch->lungmask==0.2.8) (3.7.4.3)\n",
            "Requirement already satisfied: pillow>=4.3.0 in /usr/local/lib/python3.7/dist-packages (from scikit-image->lungmask==0.2.8) (7.1.2)\n",
            "Requirement already satisfied: imageio>=2.3.0 in /usr/local/lib/python3.7/dist-packages (from scikit-image->lungmask==0.2.8) (2.4.1)\n",
            "Requirement already satisfied: networkx>=2.0 in /usr/local/lib/python3.7/dist-packages (from scikit-image->lungmask==0.2.8) (2.5)\n",
            "Requirement already satisfied: PyWavelets>=0.4.0 in /usr/local/lib/python3.7/dist-packages (from scikit-image->lungmask==0.2.8) (1.1.1)\n",
            "Requirement already satisfied: matplotlib!=3.0.0,>=2.0.0 in /usr/local/lib/python3.7/dist-packages (from scikit-image->lungmask==0.2.8) (3.1.3)\n",
            "Collecting fastremap\n",
            "\u001b[?25l  Downloading https://files.pythonhosted.org/packages/44/d7/fff1ad6a456593fc6c56a186f990b062107334af4f8fbabd9f475f66053d/fastremap-1.11.2-cp37-cp37m-manylinux2014_x86_64.whl (3.6MB)\n",
            "\u001b[K     |████████████████████████████████| 3.6MB 40.5MB/s \n",
            "\u001b[?25hRequirement already satisfied: decorator>=4.3.0 in /usr/local/lib/python3.7/dist-packages (from networkx>=2.0->scikit-image->lungmask==0.2.8) (4.4.2)\n",
            "Requirement already satisfied: kiwisolver>=1.0.1 in /usr/local/lib/python3.7/dist-packages (from matplotlib!=3.0.0,>=2.0.0->scikit-image->lungmask==0.2.8) (1.3.1)\n",
            "Requirement already satisfied: python-dateutil>=2.1 in /usr/local/lib/python3.7/dist-packages (from matplotlib!=3.0.0,>=2.0.0->scikit-image->lungmask==0.2.8) (2.8.1)\n",
            "Requirement already satisfied: cycler>=0.10 in /usr/local/lib/python3.7/dist-packages (from matplotlib!=3.0.0,>=2.0.0->scikit-image->lungmask==0.2.8) (0.10.0)\n",
            "Requirement already satisfied: pyparsing!=2.0.4,!=2.1.2,!=2.1.6,>=2.0.1 in /usr/local/lib/python3.7/dist-packages (from matplotlib!=3.0.0,>=2.0.0->scikit-image->lungmask==0.2.8) (2.4.7)\n",
            "Requirement already satisfied: six>=1.5 in /usr/local/lib/python3.7/dist-packages (from python-dateutil>=2.1->matplotlib!=3.0.0,>=2.0.0->scikit-image->lungmask==0.2.8) (1.15.0)\n",
            "Building wheels for collected packages: lungmask\n",
            "  Building wheel for lungmask (setup.py) ... \u001b[?25l\u001b[?25hdone\n",
            "  Created wheel for lungmask: filename=lungmask-0.2.8-cp37-none-any.whl size=17169 sha256=b8269fad700f707869c2c2017337570ee0f28b511c749c64cfbdcd85aec1164e\n",
            "  Stored in directory: /tmp/pip-ephem-wheel-cache-ppunbtht/wheels/59/2e/c0/1365551c1853d11aef03baf7ed94cdac831342c7f8a03e45ca\n",
            "Successfully built lungmask\n",
            "Installing collected packages: SimpleITK, fastremap, fill-voids, lungmask\n",
            "Successfully installed SimpleITK-2.0.2 fastremap-1.11.2 fill-voids-2.0.1 lungmask-0.2.8\n"
          ],
          "name": "stdout"
        }
      ]
    },
    {
      "cell_type": "code",
      "metadata": {
        "colab": {
          "base_uri": "https://localhost:8080/"
        },
        "id": "kGKnCIOuh8jS",
        "outputId": "fabac91d-88ca-4a2d-8d4b-7dedebb2665a"
      },
      "source": [
        "!kaggle datasets download -d kmader/siim-medical-images"
      ],
      "execution_count": 12,
      "outputs": [
        {
          "output_type": "stream",
          "text": [
            "Downloading siim-medical-images.zip to /content\n",
            " 97% 242M/250M [00:05<00:00, 53.8MB/s]\n",
            "100% 250M/250M [00:05<00:00, 46.0MB/s]\n"
          ],
          "name": "stdout"
        }
      ]
    },
    {
      "cell_type": "code",
      "metadata": {
        "colab": {
          "base_uri": "https://localhost:8080/"
        },
        "id": "ehhnUMuaiAoC",
        "outputId": "73cc9819-f818-4742-dee2-2c47a6bdb624"
      },
      "source": [
        "!unzip siim-medical-images.zip -d siim"
      ],
      "execution_count": 13,
      "outputs": [
        {
          "output_type": "stream",
          "text": [
            "Archive:  siim-medical-images.zip\n",
            "  inflating: siim/dicom_dir/ID_0000_AGE_0060_CONTRAST_1_CT.dcm  \n",
            "  inflating: siim/dicom_dir/ID_0001_AGE_0069_CONTRAST_1_CT.dcm  \n",
            "  inflating: siim/dicom_dir/ID_0002_AGE_0074_CONTRAST_1_CT.dcm  \n",
            "  inflating: siim/dicom_dir/ID_0003_AGE_0075_CONTRAST_1_CT.dcm  \n",
            "  inflating: siim/dicom_dir/ID_0004_AGE_0056_CONTRAST_1_CT.dcm  \n",
            "  inflating: siim/dicom_dir/ID_0005_AGE_0048_CONTRAST_1_CT.dcm  \n",
            "  inflating: siim/dicom_dir/ID_0006_AGE_0075_CONTRAST_1_CT.dcm  \n",
            "  inflating: siim/dicom_dir/ID_0007_AGE_0061_CONTRAST_1_CT.dcm  \n",
            "  inflating: siim/dicom_dir/ID_0008_AGE_0051_CONTRAST_1_CT.dcm  \n",
            "  inflating: siim/dicom_dir/ID_0009_AGE_0048_CONTRAST_1_CT.dcm  \n",
            "  inflating: siim/dicom_dir/ID_0010_AGE_0060_CONTRAST_1_CT.dcm  \n",
            "  inflating: siim/dicom_dir/ID_0011_AGE_0061_CONTRAST_1_CT.dcm  \n",
            "  inflating: siim/dicom_dir/ID_0012_AGE_0061_CONTRAST_1_CT.dcm  \n",
            "  inflating: siim/dicom_dir/ID_0013_AGE_0060_CONTRAST_1_CT.dcm  \n",
            "  inflating: siim/dicom_dir/ID_0014_AGE_0071_CONTRAST_1_CT.dcm  \n",
            "  inflating: siim/dicom_dir/ID_0015_AGE_0061_CONTRAST_1_CT.dcm  \n",
            "  inflating: siim/dicom_dir/ID_0016_AGE_0063_CONTRAST_1_CT.dcm  \n",
            "  inflating: siim/dicom_dir/ID_0017_AGE_0060_CONTRAST_1_CT.dcm  \n",
            "  inflating: siim/dicom_dir/ID_0018_AGE_0074_CONTRAST_1_CT.dcm  \n",
            "  inflating: siim/dicom_dir/ID_0019_AGE_0070_CONTRAST_1_CT.dcm  \n",
            "  inflating: siim/dicom_dir/ID_0020_AGE_0066_CONTRAST_1_CT.dcm  \n",
            "  inflating: siim/dicom_dir/ID_0021_AGE_0067_CONTRAST_1_CT.dcm  \n",
            "  inflating: siim/dicom_dir/ID_0022_AGE_0074_CONTRAST_1_CT.dcm  \n",
            "  inflating: siim/dicom_dir/ID_0023_AGE_0061_CONTRAST_1_CT.dcm  \n",
            "  inflating: siim/dicom_dir/ID_0024_AGE_0060_CONTRAST_1_CT.dcm  \n",
            "  inflating: siim/dicom_dir/ID_0025_AGE_0074_CONTRAST_1_CT.dcm  \n",
            "  inflating: siim/dicom_dir/ID_0026_AGE_0070_CONTRAST_1_CT.dcm  \n",
            "  inflating: siim/dicom_dir/ID_0027_AGE_0064_CONTRAST_1_CT.dcm  \n",
            "  inflating: siim/dicom_dir/ID_0028_AGE_0074_CONTRAST_1_CT.dcm  \n",
            "  inflating: siim/dicom_dir/ID_0029_AGE_0078_CONTRAST_1_CT.dcm  \n",
            "  inflating: siim/dicom_dir/ID_0030_AGE_0076_CONTRAST_1_CT.dcm  \n",
            "  inflating: siim/dicom_dir/ID_0031_AGE_0039_CONTRAST_1_CT.dcm  \n",
            "  inflating: siim/dicom_dir/ID_0032_AGE_0061_CONTRAST_1_CT.dcm  \n",
            "  inflating: siim/dicom_dir/ID_0033_AGE_0071_CONTRAST_1_CT.dcm  \n",
            "  inflating: siim/dicom_dir/ID_0034_AGE_0061_CONTRAST_1_CT.dcm  \n",
            "  inflating: siim/dicom_dir/ID_0035_AGE_0059_CONTRAST_1_CT.dcm  \n",
            "  inflating: siim/dicom_dir/ID_0036_AGE_0074_CONTRAST_1_CT.dcm  \n",
            "  inflating: siim/dicom_dir/ID_0037_AGE_0074_CONTRAST_1_CT.dcm  \n",
            "  inflating: siim/dicom_dir/ID_0038_AGE_0071_CONTRAST_1_CT.dcm  \n",
            "  inflating: siim/dicom_dir/ID_0039_AGE_0074_CONTRAST_1_CT.dcm  \n",
            "  inflating: siim/dicom_dir/ID_0040_AGE_0069_CONTRAST_1_CT.dcm  \n",
            "  inflating: siim/dicom_dir/ID_0041_AGE_0045_CONTRAST_1_CT.dcm  \n",
            "  inflating: siim/dicom_dir/ID_0042_AGE_0071_CONTRAST_1_CT.dcm  \n",
            "  inflating: siim/dicom_dir/ID_0043_AGE_0069_CONTRAST_1_CT.dcm  \n",
            "  inflating: siim/dicom_dir/ID_0044_AGE_0072_CONTRAST_1_CT.dcm  \n",
            "  inflating: siim/dicom_dir/ID_0045_AGE_0074_CONTRAST_1_CT.dcm  \n",
            "  inflating: siim/dicom_dir/ID_0046_AGE_0072_CONTRAST_1_CT.dcm  \n",
            "  inflating: siim/dicom_dir/ID_0047_AGE_0069_CONTRAST_1_CT.dcm  \n",
            "  inflating: siim/dicom_dir/ID_0048_AGE_0077_CONTRAST_1_CT.dcm  \n",
            "  inflating: siim/dicom_dir/ID_0049_AGE_0061_CONTRAST_1_CT.dcm  \n",
            "  inflating: siim/dicom_dir/ID_0050_AGE_0074_CONTRAST_0_CT.dcm  \n",
            "  inflating: siim/dicom_dir/ID_0051_AGE_0063_CONTRAST_0_CT.dcm  \n",
            "  inflating: siim/dicom_dir/ID_0052_AGE_0072_CONTRAST_0_CT.dcm  \n",
            "  inflating: siim/dicom_dir/ID_0053_AGE_0073_CONTRAST_0_CT.dcm  \n",
            "  inflating: siim/dicom_dir/ID_0054_AGE_0082_CONTRAST_0_CT.dcm  \n",
            "  inflating: siim/dicom_dir/ID_0055_AGE_0071_CONTRAST_0_CT.dcm  \n",
            "  inflating: siim/dicom_dir/ID_0056_AGE_0083_CONTRAST_0_CT.dcm  \n",
            "  inflating: siim/dicom_dir/ID_0057_AGE_0049_CONTRAST_0_CT.dcm  \n",
            "  inflating: siim/dicom_dir/ID_0058_AGE_0082_CONTRAST_0_CT.dcm  \n",
            "  inflating: siim/dicom_dir/ID_0059_AGE_0074_CONTRAST_0_CT.dcm  \n",
            "  inflating: siim/dicom_dir/ID_0060_AGE_0080_CONTRAST_0_CT.dcm  \n",
            "  inflating: siim/dicom_dir/ID_0061_AGE_0074_CONTRAST_0_CT.dcm  \n",
            "  inflating: siim/dicom_dir/ID_0062_AGE_0067_CONTRAST_0_CT.dcm  \n",
            "  inflating: siim/dicom_dir/ID_0063_AGE_0073_CONTRAST_0_CT.dcm  \n",
            "  inflating: siim/dicom_dir/ID_0064_AGE_0058_CONTRAST_0_CT.dcm  \n",
            "  inflating: siim/dicom_dir/ID_0065_AGE_0082_CONTRAST_0_CT.dcm  \n",
            "  inflating: siim/dicom_dir/ID_0066_AGE_0082_CONTRAST_0_CT.dcm  \n",
            "  inflating: siim/dicom_dir/ID_0067_AGE_0060_CONTRAST_0_CT.dcm  \n",
            "  inflating: siim/dicom_dir/ID_0068_AGE_0072_CONTRAST_0_CT.dcm  \n",
            "  inflating: siim/dicom_dir/ID_0069_AGE_0074_CONTRAST_0_CT.dcm  \n",
            "  inflating: siim/dicom_dir/ID_0070_AGE_0074_CONTRAST_0_CT.dcm  \n",
            "  inflating: siim/dicom_dir/ID_0071_AGE_0065_CONTRAST_0_CT.dcm  \n",
            "  inflating: siim/dicom_dir/ID_0072_AGE_0060_CONTRAST_0_CT.dcm  \n",
            "  inflating: siim/dicom_dir/ID_0073_AGE_0074_CONTRAST_0_CT.dcm  \n",
            "  inflating: siim/dicom_dir/ID_0074_AGE_0074_CONTRAST_0_CT.dcm  \n",
            "  inflating: siim/dicom_dir/ID_0075_AGE_0080_CONTRAST_0_CT.dcm  \n",
            "  inflating: siim/dicom_dir/ID_0076_AGE_0068_CONTRAST_0_CT.dcm  \n",
            "  inflating: siim/dicom_dir/ID_0077_AGE_0074_CONTRAST_0_CT.dcm  \n",
            "  inflating: siim/dicom_dir/ID_0078_AGE_0066_CONTRAST_0_CT.dcm  \n",
            "  inflating: siim/dicom_dir/ID_0079_AGE_0071_CONTRAST_0_CT.dcm  \n",
            "  inflating: siim/dicom_dir/ID_0080_AGE_0070_CONTRAST_0_CT.dcm  \n",
            "  inflating: siim/dicom_dir/ID_0081_AGE_0058_CONTRAST_0_CT.dcm  \n",
            "  inflating: siim/dicom_dir/ID_0082_AGE_0047_CONTRAST_0_CT.dcm  \n",
            "  inflating: siim/dicom_dir/ID_0083_AGE_0082_CONTRAST_0_CT.dcm  \n",
            "  inflating: siim/dicom_dir/ID_0084_AGE_0067_CONTRAST_0_CT.dcm  \n",
            "  inflating: siim/dicom_dir/ID_0085_AGE_0067_CONTRAST_0_CT.dcm  \n",
            "  inflating: siim/dicom_dir/ID_0086_AGE_0073_CONTRAST_0_CT.dcm  \n",
            "  inflating: siim/dicom_dir/ID_0087_AGE_0044_CONTRAST_0_CT.dcm  \n",
            "  inflating: siim/dicom_dir/ID_0088_AGE_0067_CONTRAST_0_CT.dcm  \n",
            "  inflating: siim/dicom_dir/ID_0089_AGE_0071_CONTRAST_0_CT.dcm  \n",
            "  inflating: siim/dicom_dir/ID_0090_AGE_0067_CONTRAST_0_CT.dcm  \n",
            "  inflating: siim/dicom_dir/ID_0091_AGE_0072_CONTRAST_0_CT.dcm  \n",
            "  inflating: siim/dicom_dir/ID_0092_AGE_0072_CONTRAST_0_CT.dcm  \n",
            "  inflating: siim/dicom_dir/ID_0093_AGE_0067_CONTRAST_0_CT.dcm  \n",
            "  inflating: siim/dicom_dir/ID_0094_AGE_0052_CONTRAST_0_CT.dcm  \n",
            "  inflating: siim/dicom_dir/ID_0095_AGE_0071_CONTRAST_0_CT.dcm  \n",
            "  inflating: siim/dicom_dir/ID_0096_AGE_0083_CONTRAST_0_CT.dcm  \n",
            "  inflating: siim/dicom_dir/ID_0097_AGE_0060_CONTRAST_0_CT.dcm  \n",
            "  inflating: siim/dicom_dir/ID_0098_AGE_0061_CONTRAST_0_CT.dcm  \n",
            "  inflating: siim/dicom_dir/ID_0099_AGE_0061_CONTRAST_0_CT.dcm  \n",
            "  inflating: siim/full_archive.npz   \n",
            "  inflating: siim/overview.csv       \n",
            "  inflating: siim/tiff_images/ID_0000_AGE_0060_CONTRAST_1_CT.tif  \n",
            "  inflating: siim/tiff_images/ID_0001_AGE_0069_CONTRAST_1_CT.tif  \n",
            "  inflating: siim/tiff_images/ID_0002_AGE_0074_CONTRAST_1_CT.tif  \n",
            "  inflating: siim/tiff_images/ID_0003_AGE_0075_CONTRAST_1_CT.tif  \n",
            "  inflating: siim/tiff_images/ID_0004_AGE_0056_CONTRAST_1_CT.tif  \n",
            "  inflating: siim/tiff_images/ID_0005_AGE_0048_CONTRAST_1_CT.tif  \n",
            "  inflating: siim/tiff_images/ID_0006_AGE_0075_CONTRAST_1_CT.tif  \n",
            "  inflating: siim/tiff_images/ID_0007_AGE_0061_CONTRAST_1_CT.tif  \n",
            "  inflating: siim/tiff_images/ID_0008_AGE_0051_CONTRAST_1_CT.tif  \n",
            "  inflating: siim/tiff_images/ID_0009_AGE_0048_CONTRAST_1_CT.tif  \n",
            "  inflating: siim/tiff_images/ID_0010_AGE_0060_CONTRAST_1_CT.tif  \n",
            "  inflating: siim/tiff_images/ID_0011_AGE_0061_CONTRAST_1_CT.tif  \n",
            "  inflating: siim/tiff_images/ID_0012_AGE_0061_CONTRAST_1_CT.tif  \n",
            "  inflating: siim/tiff_images/ID_0013_AGE_0060_CONTRAST_1_CT.tif  \n",
            "  inflating: siim/tiff_images/ID_0014_AGE_0071_CONTRAST_1_CT.tif  \n",
            "  inflating: siim/tiff_images/ID_0015_AGE_0061_CONTRAST_1_CT.tif  \n",
            "  inflating: siim/tiff_images/ID_0016_AGE_0063_CONTRAST_1_CT.tif  \n",
            "  inflating: siim/tiff_images/ID_0017_AGE_0060_CONTRAST_1_CT.tif  \n",
            "  inflating: siim/tiff_images/ID_0018_AGE_0074_CONTRAST_1_CT.tif  \n",
            "  inflating: siim/tiff_images/ID_0019_AGE_0070_CONTRAST_1_CT.tif  \n",
            "  inflating: siim/tiff_images/ID_0020_AGE_0066_CONTRAST_1_CT.tif  \n",
            "  inflating: siim/tiff_images/ID_0021_AGE_0067_CONTRAST_1_CT.tif  \n",
            "  inflating: siim/tiff_images/ID_0022_AGE_0074_CONTRAST_1_CT.tif  \n",
            "  inflating: siim/tiff_images/ID_0023_AGE_0061_CONTRAST_1_CT.tif  \n",
            "  inflating: siim/tiff_images/ID_0024_AGE_0060_CONTRAST_1_CT.tif  \n",
            "  inflating: siim/tiff_images/ID_0025_AGE_0074_CONTRAST_1_CT.tif  \n",
            "  inflating: siim/tiff_images/ID_0026_AGE_0070_CONTRAST_1_CT.tif  \n",
            "  inflating: siim/tiff_images/ID_0027_AGE_0064_CONTRAST_1_CT.tif  \n",
            "  inflating: siim/tiff_images/ID_0028_AGE_0074_CONTRAST_1_CT.tif  \n",
            "  inflating: siim/tiff_images/ID_0029_AGE_0078_CONTRAST_1_CT.tif  \n",
            "  inflating: siim/tiff_images/ID_0030_AGE_0076_CONTRAST_1_CT.tif  \n",
            "  inflating: siim/tiff_images/ID_0031_AGE_0039_CONTRAST_1_CT.tif  \n",
            "  inflating: siim/tiff_images/ID_0032_AGE_0061_CONTRAST_1_CT.tif  \n",
            "  inflating: siim/tiff_images/ID_0033_AGE_0071_CONTRAST_1_CT.tif  \n",
            "  inflating: siim/tiff_images/ID_0034_AGE_0061_CONTRAST_1_CT.tif  \n",
            "  inflating: siim/tiff_images/ID_0035_AGE_0059_CONTRAST_1_CT.tif  \n",
            "  inflating: siim/tiff_images/ID_0036_AGE_0074_CONTRAST_1_CT.tif  \n",
            "  inflating: siim/tiff_images/ID_0037_AGE_0074_CONTRAST_1_CT.tif  \n",
            "  inflating: siim/tiff_images/ID_0038_AGE_0071_CONTRAST_1_CT.tif  \n",
            "  inflating: siim/tiff_images/ID_0039_AGE_0074_CONTRAST_1_CT.tif  \n",
            "  inflating: siim/tiff_images/ID_0040_AGE_0069_CONTRAST_1_CT.tif  \n",
            "  inflating: siim/tiff_images/ID_0041_AGE_0045_CONTRAST_1_CT.tif  \n",
            "  inflating: siim/tiff_images/ID_0042_AGE_0071_CONTRAST_1_CT.tif  \n",
            "  inflating: siim/tiff_images/ID_0043_AGE_0069_CONTRAST_1_CT.tif  \n",
            "  inflating: siim/tiff_images/ID_0044_AGE_0072_CONTRAST_1_CT.tif  \n",
            "  inflating: siim/tiff_images/ID_0045_AGE_0074_CONTRAST_1_CT.tif  \n",
            "  inflating: siim/tiff_images/ID_0046_AGE_0072_CONTRAST_1_CT.tif  \n",
            "  inflating: siim/tiff_images/ID_0047_AGE_0069_CONTRAST_1_CT.tif  \n",
            "  inflating: siim/tiff_images/ID_0048_AGE_0077_CONTRAST_1_CT.tif  \n",
            "  inflating: siim/tiff_images/ID_0049_AGE_0061_CONTRAST_1_CT.tif  \n",
            "  inflating: siim/tiff_images/ID_0050_AGE_0074_CONTRAST_0_CT.tif  \n",
            "  inflating: siim/tiff_images/ID_0051_AGE_0063_CONTRAST_0_CT.tif  \n",
            "  inflating: siim/tiff_images/ID_0052_AGE_0072_CONTRAST_0_CT.tif  \n",
            "  inflating: siim/tiff_images/ID_0053_AGE_0073_CONTRAST_0_CT.tif  \n",
            "  inflating: siim/tiff_images/ID_0054_AGE_0082_CONTRAST_0_CT.tif  \n",
            "  inflating: siim/tiff_images/ID_0055_AGE_0071_CONTRAST_0_CT.tif  \n",
            "  inflating: siim/tiff_images/ID_0056_AGE_0083_CONTRAST_0_CT.tif  \n",
            "  inflating: siim/tiff_images/ID_0057_AGE_0049_CONTRAST_0_CT.tif  \n",
            "  inflating: siim/tiff_images/ID_0058_AGE_0082_CONTRAST_0_CT.tif  \n",
            "  inflating: siim/tiff_images/ID_0059_AGE_0074_CONTRAST_0_CT.tif  \n",
            "  inflating: siim/tiff_images/ID_0060_AGE_0080_CONTRAST_0_CT.tif  \n",
            "  inflating: siim/tiff_images/ID_0061_AGE_0074_CONTRAST_0_CT.tif  \n",
            "  inflating: siim/tiff_images/ID_0062_AGE_0067_CONTRAST_0_CT.tif  \n",
            "  inflating: siim/tiff_images/ID_0063_AGE_0073_CONTRAST_0_CT.tif  \n",
            "  inflating: siim/tiff_images/ID_0064_AGE_0058_CONTRAST_0_CT.tif  \n",
            "  inflating: siim/tiff_images/ID_0065_AGE_0082_CONTRAST_0_CT.tif  \n",
            "  inflating: siim/tiff_images/ID_0066_AGE_0082_CONTRAST_0_CT.tif  \n",
            "  inflating: siim/tiff_images/ID_0067_AGE_0060_CONTRAST_0_CT.tif  \n",
            "  inflating: siim/tiff_images/ID_0068_AGE_0072_CONTRAST_0_CT.tif  \n",
            "  inflating: siim/tiff_images/ID_0069_AGE_0074_CONTRAST_0_CT.tif  \n",
            "  inflating: siim/tiff_images/ID_0070_AGE_0074_CONTRAST_0_CT.tif  \n",
            "  inflating: siim/tiff_images/ID_0071_AGE_0065_CONTRAST_0_CT.tif  \n",
            "  inflating: siim/tiff_images/ID_0072_AGE_0060_CONTRAST_0_CT.tif  \n",
            "  inflating: siim/tiff_images/ID_0073_AGE_0074_CONTRAST_0_CT.tif  \n",
            "  inflating: siim/tiff_images/ID_0074_AGE_0074_CONTRAST_0_CT.tif  \n",
            "  inflating: siim/tiff_images/ID_0075_AGE_0080_CONTRAST_0_CT.tif  \n",
            "  inflating: siim/tiff_images/ID_0076_AGE_0068_CONTRAST_0_CT.tif  \n",
            "  inflating: siim/tiff_images/ID_0077_AGE_0074_CONTRAST_0_CT.tif  \n",
            "  inflating: siim/tiff_images/ID_0078_AGE_0066_CONTRAST_0_CT.tif  \n",
            "  inflating: siim/tiff_images/ID_0079_AGE_0071_CONTRAST_0_CT.tif  \n",
            "  inflating: siim/tiff_images/ID_0080_AGE_0070_CONTRAST_0_CT.tif  \n",
            "  inflating: siim/tiff_images/ID_0081_AGE_0058_CONTRAST_0_CT.tif  \n",
            "  inflating: siim/tiff_images/ID_0082_AGE_0047_CONTRAST_0_CT.tif  \n",
            "  inflating: siim/tiff_images/ID_0083_AGE_0082_CONTRAST_0_CT.tif  \n",
            "  inflating: siim/tiff_images/ID_0084_AGE_0067_CONTRAST_0_CT.tif  \n",
            "  inflating: siim/tiff_images/ID_0085_AGE_0067_CONTRAST_0_CT.tif  \n",
            "  inflating: siim/tiff_images/ID_0086_AGE_0073_CONTRAST_0_CT.tif  \n",
            "  inflating: siim/tiff_images/ID_0087_AGE_0044_CONTRAST_0_CT.tif  \n",
            "  inflating: siim/tiff_images/ID_0088_AGE_0067_CONTRAST_0_CT.tif  \n",
            "  inflating: siim/tiff_images/ID_0089_AGE_0071_CONTRAST_0_CT.tif  \n",
            "  inflating: siim/tiff_images/ID_0090_AGE_0067_CONTRAST_0_CT.tif  \n",
            "  inflating: siim/tiff_images/ID_0091_AGE_0072_CONTRAST_0_CT.tif  \n",
            "  inflating: siim/tiff_images/ID_0092_AGE_0072_CONTRAST_0_CT.tif  \n",
            "  inflating: siim/tiff_images/ID_0093_AGE_0067_CONTRAST_0_CT.tif  \n",
            "  inflating: siim/tiff_images/ID_0094_AGE_0052_CONTRAST_0_CT.tif  \n",
            "  inflating: siim/tiff_images/ID_0095_AGE_0071_CONTRAST_0_CT.tif  \n",
            "  inflating: siim/tiff_images/ID_0096_AGE_0083_CONTRAST_0_CT.tif  \n",
            "  inflating: siim/tiff_images/ID_0097_AGE_0060_CONTRAST_0_CT.tif  \n",
            "  inflating: siim/tiff_images/ID_0098_AGE_0061_CONTRAST_0_CT.tif  \n",
            "  inflating: siim/tiff_images/ID_0099_AGE_0061_CONTRAST_0_CT.tif  \n"
          ],
          "name": "stdout"
        }
      ]
    },
    {
      "cell_type": "code",
      "metadata": {
        "id": "v8XML8-jiB4Y"
      },
      "source": [
        "!mkdir siim/png"
      ],
      "execution_count": 14,
      "outputs": []
    },
    {
      "cell_type": "code",
      "metadata": {
        "id": "fy9w1b_NiEdj"
      },
      "source": [
        "!cp siim/dicom_dir/ID_0099_AGE_0061_CONTRAST_0_CT.dcm siim/png"
      ],
      "execution_count": 15,
      "outputs": []
    },
    {
      "cell_type": "code",
      "metadata": {
        "colab": {
          "base_uri": "https://localhost:8080/"
        },
        "id": "FGzEBk2ziFkt",
        "outputId": "4e5f8347-f84e-48c8-eaab-fe9fbb8a1f86"
      },
      "source": [
        "! [ -e /content ] && pip install -Uqq fastai"
      ],
      "execution_count": 16,
      "outputs": [
        {
          "output_type": "stream",
          "text": [
            "\u001b[K     |████████████████████████████████| 194kB 12.1MB/s \n",
            "\u001b[K     |████████████████████████████████| 61kB 5.1MB/s \n",
            "\u001b[?25h"
          ],
          "name": "stdout"
        }
      ]
    },
    {
      "cell_type": "code",
      "metadata": {
        "colab": {
          "base_uri": "https://localhost:8080/"
        },
        "id": "Hahc4eHSiHyw",
        "outputId": "bf9952a9-1d18-47e6-a48a-ed6681003bcd"
      },
      "source": [
        "!pip install kornia"
      ],
      "execution_count": 17,
      "outputs": [
        {
          "output_type": "stream",
          "text": [
            "Collecting kornia\n",
            "\u001b[?25l  Downloading https://files.pythonhosted.org/packages/ae/b2/8a968f1d7fb1d651a77c1ad7ffce9fc7b4dbd250eecaa9e2f21714fcfb2e/kornia-0.5.0-py2.py3-none-any.whl (271kB)\n",
            "\r\u001b[K     |█▏                              | 10kB 15.5MB/s eta 0:00:01\r\u001b[K     |██▍                             | 20kB 20.2MB/s eta 0:00:01\r\u001b[K     |███▋                            | 30kB 24.5MB/s eta 0:00:01\r\u001b[K     |████▉                           | 40kB 19.5MB/s eta 0:00:01\r\u001b[K     |██████                          | 51kB 15.4MB/s eta 0:00:01\r\u001b[K     |███████▎                        | 61kB 15.2MB/s eta 0:00:01\r\u001b[K     |████████▌                       | 71kB 11.6MB/s eta 0:00:01\r\u001b[K     |█████████▋                      | 81kB 12.4MB/s eta 0:00:01\r\u001b[K     |██████████▉                     | 92kB 12.8MB/s eta 0:00:01\r\u001b[K     |████████████                    | 102kB 12.4MB/s eta 0:00:01\r\u001b[K     |█████████████▎                  | 112kB 12.4MB/s eta 0:00:01\r\u001b[K     |██████████████▌                 | 122kB 12.4MB/s eta 0:00:01\r\u001b[K     |███████████████▊                | 133kB 12.4MB/s eta 0:00:01\r\u001b[K     |█████████████████               | 143kB 12.4MB/s eta 0:00:01\r\u001b[K     |██████████████████              | 153kB 12.4MB/s eta 0:00:01\r\u001b[K     |███████████████████▎            | 163kB 12.4MB/s eta 0:00:01\r\u001b[K     |████████████████████▌           | 174kB 12.4MB/s eta 0:00:01\r\u001b[K     |█████████████████████▊          | 184kB 12.4MB/s eta 0:00:01\r\u001b[K     |███████████████████████         | 194kB 12.4MB/s eta 0:00:01\r\u001b[K     |████████████████████████▏       | 204kB 12.4MB/s eta 0:00:01\r\u001b[K     |█████████████████████████▍      | 215kB 12.4MB/s eta 0:00:01\r\u001b[K     |██████████████████████████▌     | 225kB 12.4MB/s eta 0:00:01\r\u001b[K     |███████████████████████████▊    | 235kB 12.4MB/s eta 0:00:01\r\u001b[K     |█████████████████████████████   | 245kB 12.4MB/s eta 0:00:01\r\u001b[K     |██████████████████████████████▏ | 256kB 12.4MB/s eta 0:00:01\r\u001b[K     |███████████████████████████████▍| 266kB 12.4MB/s eta 0:00:01\r\u001b[K     |████████████████████████████████| 276kB 12.4MB/s \n",
            "\u001b[?25hRequirement already satisfied: torch>=1.6.0 in /usr/local/lib/python3.7/dist-packages (from kornia) (1.7.1)\n",
            "Requirement already satisfied: numpy in /usr/local/lib/python3.7/dist-packages (from kornia) (1.17.4)\n",
            "Requirement already satisfied: typing-extensions in /usr/local/lib/python3.7/dist-packages (from torch>=1.6.0->kornia) (3.7.4.3)\n",
            "Installing collected packages: kornia\n",
            "Successfully installed kornia-0.5.0\n"
          ],
          "name": "stdout"
        }
      ]
    },
    {
      "cell_type": "code",
      "metadata": {
        "id": "gm6-sisziJEl"
      },
      "source": [
        ""
      ],
      "execution_count": 17,
      "outputs": []
    },
    {
      "cell_type": "markdown",
      "metadata": {
        "id": "BnIzjUZpI1OV"
      },
      "source": [
        "# Code"
      ]
    },
    {
      "cell_type": "code",
      "metadata": {
        "id": "Qs0rwuLRI4Zs"
      },
      "source": [
        ""
      ],
      "execution_count": null,
      "outputs": []
    }
  ]
}