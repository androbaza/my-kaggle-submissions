{
  "nbformat": 4,
  "nbformat_minor": 0,
  "metadata": {
    "colab": {
      "name": "WiFiLoc.ipynb",
      "provenance": [],
      "collapsed_sections": [
        "WtIDaIOrgQmy"
      ],
      "toc_visible": true,
      "authorship_tag": "ABX9TyOY/yf6dUfOoQG+kTWrSRzB",
      "include_colab_link": true
    },
    "kernelspec": {
      "name": "python3",
      "display_name": "Python 3"
    },
    "language_info": {
      "name": "python"
    }
  },
  "cells": [
    {
      "cell_type": "markdown",
      "metadata": {
        "id": "view-in-github",
        "colab_type": "text"
      },
      "source": [
        "<a href=\"https://colab.research.google.com/github/androbaza/my-kaggle-submissions/blob/master/WiFi%20Localization.ipynb\" target=\"_parent\"><img src=\"https://colab.research.google.com/assets/colab-badge.svg\" alt=\"Open In Colab\"/></a>"
      ]
    },
    {
      "cell_type": "code",
      "metadata": {
        "id": "3z4U__KCL_hU",
        "colab": {
          "base_uri": "https://localhost:8080/"
        },
        "outputId": "d9df0f68-b09b-4a00-8c5d-7affc87bf15b"
      },
      "source": [
        "from google.colab import drive\n",
        "drive.mount(\"/content/drive\")\n",
        "\n",
        "import random\n",
        "from random import sample\n",
        "import numpy as np\n",
        "import pandas as pd\n",
        "from sklearn.model_selection import StratifiedKFold\n",
        "import gc\n",
        "import torch.nn as nn\n",
        "from torch.utils.data import Dataset\n",
        "import torch\n",
        "import matplotlib.pyplot as plt\n",
        "from scipy.ndimage.filters import uniform_filter1d\n",
        "from scipy.interpolate import interp1d\n",
        "import numpy as np \n",
        "import pandas as pd  \n",
        "import torch.nn as nn\n",
        "import os\n",
        "import time\n",
        "import torch.optim as optim\n",
        "from torch.utils.data import DataLoader\n",
        "from sklearn.preprocessing import StandardScaler, LabelEncoder\n",
        "from collections import defaultdict\n",
        "\n",
        "EPOCH = 50\n",
        "BATCH_SIZE = 256\n",
        "DEVICE = torch.device(\"cuda\" if torch.cuda.is_available() else \"cpu\")\n",
        "MEMORY_LENGTH = 5 # max sequence length\n",
        "WIFI_NUM = 50\n",
        "FOLDS = 10\n",
        "inpath = '/content/drive/MyDrive/wifi-loc/'\n",
        "# metapath = inpath + 'metadata'\n",
        "trainpath = inpath + 'train'\n",
        "testpath = inpath + 'test'\n",
        "\n",
        "def set_seed(seed=42):\n",
        "  random.seed(seed)\n",
        "  np.random.seed(seed)\n",
        "  torch.manual_seed(seed)\n",
        "  torch.cuda.manual_seed_all(seed)\n",
        "  torch.backends.cudnn.deterministic = True\n",
        "\n",
        "set_seed()"
      ],
      "execution_count": null,
      "outputs": [
        {
          "output_type": "stream",
          "text": [
            "Drive already mounted at /content/drive; to attempt to forcibly remount, call drive.mount(\"/content/drive\", force_remount=True).\n"
          ],
          "name": "stdout"
        }
      ]
    },
    {
      "cell_type": "code",
      "metadata": {
        "id": "lEkNa7bq-Mgx"
      },
      "source": [
        "def mean_error_dist(x_pred, y_pred, z_pred, x_true, y_true, z_true):\n",
        "    dist = 0\n",
        "    for index in range(len(x_pred)):\n",
        "        dist = dist + np.linalg.norm(np.array((x_pred[index], y_pred[index], z_pred[index])) - np.array((x_true[index], y_true[index], z_true[index])))\n",
        "    return dist / len(x_true)"
      ],
      "execution_count": null,
      "outputs": []
    },
    {
      "cell_type": "markdown",
      "metadata": {
        "id": "qykw8jdL3Mbv"
      },
      "source": [
        "# LightBGM 2.97"
      ]
    },
    {
      "cell_type": "code",
      "metadata": {
        "id": "5DW5kbOM4UHo",
        "colab": {
          "base_uri": "https://localhost:8080/"
        },
        "outputId": "b7d4b8ec-0d7f-4f86-e09f-2b82123a9741"
      },
      "source": [
        "from google.colab import drive\n",
        "drive.mount(\"/content/drive\")\n",
        "\n",
        "import os\n",
        "import json\n",
        "import glob\n",
        "import cv2\n",
        "import numpy as np\n",
        "import lightgbm as lgb\n",
        "import pandas as pd\n",
        "import seaborn as sns\n",
        "import matplotlib\n",
        "import matplotlib.pyplot as plt\n",
        "import plotly.graph_objs as go\n",
        "from sklearn.model_selection import train_test_split\n",
        "from sklearn.multioutput import RegressorChain\n",
        "\n",
        "from PIL import Image, ImageOps\n",
        "from skimage import io\n",
        "from skimage.color import rgba2rgb, rgb2xyz\n",
        "from tqdm import tqdm\n",
        "from dataclasses import dataclass\n",
        "from math import floor, ceil"
      ],
      "execution_count": null,
      "outputs": [
        {
          "output_type": "stream",
          "text": [
            "Mounted at /content/drive\n"
          ],
          "name": "stdout"
        }
      ]
    },
    {
      "cell_type": "code",
      "metadata": {
        "colab": {
          "base_uri": "https://localhost:8080/"
        },
        "id": "e_B-csxKu31Q",
        "outputId": "8f61232e-acfd-4dc4-c06c-a153e91f3c0f"
      },
      "source": [
        "train_dir = \"/content/drive/MyDrive/wifi-loc/train/*.csv\"\n",
        "test_dir = \"/content/drive/MyDrive/wifi-loc/test/*.csv\"\n",
        "\n",
        "# Paths for train & test files\n",
        "train_paths = sorted(glob.glob(train_dir))\n",
        "test_paths = sorted(glob.glob(test_dir))\n",
        "\n",
        "print(\"Len Train Files: {}\".format(len(train_paths)), \"\\n\" + \"Len Test Files: {}\".format(len(test_paths)))"
      ],
      "execution_count": null,
      "outputs": [
        {
          "output_type": "stream",
          "text": [
            "Len Train Files: 80 \n",
            "Len Test Files: 11\n"
          ],
          "name": "stdout"
        }
      ]
    },
    {
      "cell_type": "code",
      "metadata": {
        "id": "rS8jUckngrzB"
      },
      "source": [
        "train_df = pd.concat((pd.read_csv(f) for f in train_paths))\n",
        "test_df = pd.concat((pd.read_csv(f) for f in test_paths))\n",
        "\n",
        "test_df.drop(test_df.columns[-12:-6], axis=1, inplace=True)\n",
        "train_df.drop(train_df.columns[-12:-6], axis=1, inplace=True)"
      ],
      "execution_count": null,
      "outputs": []
    },
    {
      "cell_type": "code",
      "metadata": {
        "id": "9WdJmBiUgup3"
      },
      "source": [
        "def train_lgbm1():\n",
        "\n",
        "    # --- Read in data ---\n",
        "    # train_df = train_df.sample(frac=1, random_state=42)\n",
        "    \n",
        "    # train_df = pd.concat((pd.read_csv(f) for f in train_paths))\n",
        "    # test_df = pd.concat((pd.read_csv(f) for f in test_paths))\n",
        "\n",
        "    # Drop unneeded columns\n",
        "    # test_df.drop(test_df.columns[-12:-6], axis=1, inplace=True)\n",
        "    # train_df.drop(train_df.columns[-12:-6], axis=1, inplace=True)\n",
        "    # test_df = test_df.iloc[:, :-3]\n",
        "\n",
        "    # --- Data Validation ---\n",
        "    # Train features + targets\n",
        "    X = train_df.iloc[:, :-3]\n",
        "    y = train_df.iloc[:, -3:]\n",
        "\n",
        "    X_train, X_valid, y_train, y_valid = train_test_split(X, y, test_size=0.2, random_state=42)\n",
        "\n",
        "    train_data_x = lgb.Dataset(X_train, label=y_train.iloc[:, -3])\n",
        "    valid_data_x = lgb.Dataset(X_valid, label=y_valid.iloc[:, -3], reference=train_data_x)\n",
        "\n",
        "    train_data_y = lgb.Dataset(X_train, label=y_train.iloc[:, -2])\n",
        "    valid_data_y = lgb.Dataset(X_valid, label=y_valid.iloc[:, -2], reference=train_data_y)\n",
        "\n",
        "    train_data_z = lgb.Dataset(X_train, label=y_train.iloc[:, -1])\n",
        "    valid_data_z = lgb.Dataset(X_valid, label=y_valid.iloc[:, -1], reference=train_data_z)\n",
        "\n",
        "    SEARCH_PARAMS = {'learning_rate': 0.5,\n",
        "                    #  'min_data_in_leaf': 500,\n",
        "                     'max_bin ': 2000,\n",
        "                     'num_iterations': 30,\n",
        "                     'num_leaves': 2560,\n",
        "                     'max_depth': 35,\n",
        "                     # 'subsample': 0.2,\n",
        "                     # 'feature_fraction': 0.8, \n",
        "                    }\n",
        "\n",
        "    FIXED_PARAMS={'objective': 'regression_l1',\n",
        "                'boosting':'dart',\n",
        "                 }\n",
        "\n",
        "    params = {**FIXED_PARAMS,**SEARCH_PARAMS}\n",
        "\n",
        "    # --- Model Training ---\n",
        "    model_x = lgb.train(params, train_data_x, valid_sets=valid_data_x)\n",
        "\n",
        "    model_y = lgb.train(params, train_data_y, valid_sets=valid_data_y)\n",
        "\n",
        "    model_z = lgb.train(params, train_data_z, valid_sets=valid_data_z)\n",
        "    \n",
        "    lgbm_predictions = pd.DataFrame(columns=['x', 'y', 'z'])\n",
        "    lgbm_predictions.iloc[:, 0] = model_x.predict(test_df.iloc[:, :-3])\n",
        "    lgbm_predictions.iloc[:, 1] = model_y.predict(test_df.iloc[:, :-3])\n",
        "    lgbm_predictions.iloc[:, 2] = model_z.predict(test_df.iloc[:, :-3])\n",
        "\n",
        "    return model_x, model_y, model_z, lgbm_predictions"
      ],
      "execution_count": null,
      "outputs": []
    },
    {
      "cell_type": "code",
      "metadata": {
        "colab": {
          "base_uri": "https://localhost:8080/"
        },
        "id": "QBt4GaF64kTP",
        "outputId": "e97d1dff-4f55-4846-976b-79e8975bd0c4"
      },
      "source": [
        "model_x, model_y, model_z, lgbm_predictions = train_lgbm1()"
      ],
      "execution_count": null,
      "outputs": [
        {
          "output_type": "stream",
          "text": [
            "/usr/local/lib/python3.7/dist-packages/lightgbm/engine.py:118: UserWarning:\n",
            "\n",
            "Found `num_iterations` in params. Will use it instead of argument\n",
            "\n"
          ],
          "name": "stderr"
        },
        {
          "output_type": "stream",
          "text": [
            "[1]\tvalid_0's l1: 9.59254\n",
            "[2]\tvalid_0's l1: 5.64686\n",
            "[3]\tvalid_0's l1: 3.55557\n",
            "[4]\tvalid_0's l1: 2.48743\n",
            "[5]\tvalid_0's l1: 1.75215\n",
            "[6]\tvalid_0's l1: 1.22484\n",
            "[7]\tvalid_0's l1: 0.905466\n",
            "[8]\tvalid_0's l1: 1.46438\n",
            "[9]\tvalid_0's l1: 1.06678\n",
            "[10]\tvalid_0's l1: 0.834572\n",
            "[11]\tvalid_0's l1: 0.654417\n",
            "[12]\tvalid_0's l1: 0.762583\n",
            "[13]\tvalid_0's l1: 0.593082\n",
            "[14]\tvalid_0's l1: 0.469746\n",
            "[15]\tvalid_0's l1: 0.386801\n",
            "[16]\tvalid_0's l1: 0.33198\n",
            "[17]\tvalid_0's l1: 0.298123\n",
            "[18]\tvalid_0's l1: 0.272692\n",
            "[19]\tvalid_0's l1: 0.255573\n",
            "[20]\tvalid_0's l1: 0.242294\n",
            "[21]\tvalid_0's l1: 0.294778\n",
            "[22]\tvalid_0's l1: 0.255084\n",
            "[23]\tvalid_0's l1: 0.235591\n",
            "[24]\tvalid_0's l1: 0.223605\n",
            "[25]\tvalid_0's l1: 0.214546\n",
            "[26]\tvalid_0's l1: 0.208603\n",
            "[27]\tvalid_0's l1: 0.203736\n",
            "[28]\tvalid_0's l1: 0.216976\n",
            "[29]\tvalid_0's l1: 0.20669\n",
            "[30]\tvalid_0's l1: 0.200747\n",
            "[1]\tvalid_0's l1: 4.28636\n",
            "[2]\tvalid_0's l1: 2.78199\n",
            "[3]\tvalid_0's l1: 1.75525\n",
            "[4]\tvalid_0's l1: 1.17884\n",
            "[5]\tvalid_0's l1: 0.817611\n",
            "[6]\tvalid_0's l1: 0.54292\n",
            "[7]\tvalid_0's l1: 0.402141\n",
            "[8]\tvalid_0's l1: 0.63875\n",
            "[9]\tvalid_0's l1: 0.453466\n",
            "[10]\tvalid_0's l1: 0.342758\n",
            "[11]\tvalid_0's l1: 0.271602\n",
            "[12]\tvalid_0's l1: 0.323511\n",
            "[13]\tvalid_0's l1: 0.257703\n",
            "[14]\tvalid_0's l1: 0.215305\n",
            "[15]\tvalid_0's l1: 0.189963\n",
            "[16]\tvalid_0's l1: 0.172917\n",
            "[17]\tvalid_0's l1: 0.160856\n",
            "[18]\tvalid_0's l1: 0.151771\n",
            "[19]\tvalid_0's l1: 0.143879\n",
            "[20]\tvalid_0's l1: 0.137026\n",
            "[21]\tvalid_0's l1: 0.165647\n",
            "[22]\tvalid_0's l1: 0.145662\n",
            "[23]\tvalid_0's l1: 0.135323\n",
            "[24]\tvalid_0's l1: 0.128988\n",
            "[25]\tvalid_0's l1: 0.12474\n",
            "[26]\tvalid_0's l1: 0.12185\n",
            "[27]\tvalid_0's l1: 0.119738\n",
            "[28]\tvalid_0's l1: 0.124263\n",
            "[29]\tvalid_0's l1: 0.120269\n",
            "[30]\tvalid_0's l1: 0.117783\n",
            "[1]\tvalid_0's l1: 1.52338\n",
            "[2]\tvalid_0's l1: 0.788733\n",
            "[3]\tvalid_0's l1: 0.414215\n",
            "[4]\tvalid_0's l1: 0.224684\n",
            "[5]\tvalid_0's l1: 0.12942\n",
            "[6]\tvalid_0's l1: 0.0811185\n",
            "[7]\tvalid_0's l1: 0.0568863\n",
            "[8]\tvalid_0's l1: 0.179586\n",
            "[9]\tvalid_0's l1: 0.102784\n",
            "[10]\tvalid_0's l1: 0.0630174\n",
            "[11]\tvalid_0's l1: 0.046524\n",
            "[12]\tvalid_0's l1: 0.0587191\n",
            "[13]\tvalid_0's l1: 0.0437258\n",
            "[14]\tvalid_0's l1: 0.0319197\n",
            "[15]\tvalid_0's l1: 0.0263056\n",
            "[16]\tvalid_0's l1: 0.0228242\n",
            "[17]\tvalid_0's l1: 0.0207274\n",
            "[18]\tvalid_0's l1: 0.019118\n",
            "[19]\tvalid_0's l1: 0.0181157\n",
            "[20]\tvalid_0's l1: 0.0167902\n",
            "[21]\tvalid_0's l1: 0.0252683\n",
            "[22]\tvalid_0's l1: 0.0185128\n",
            "[23]\tvalid_0's l1: 0.0152341\n",
            "[24]\tvalid_0's l1: 0.0134561\n",
            "[25]\tvalid_0's l1: 0.0123197\n",
            "[26]\tvalid_0's l1: 0.0116534\n",
            "[27]\tvalid_0's l1: 0.0113132\n",
            "[28]\tvalid_0's l1: 0.0128713\n",
            "[29]\tvalid_0's l1: 0.0115699\n",
            "[30]\tvalid_0's l1: 0.0108376\n"
          ],
          "name": "stdout"
        }
      ]
    },
    {
      "cell_type": "code",
      "metadata": {
        "id": "7CEKsx0-bLKc"
      },
      "source": [
        "MED = mean_error_dist(lgbm_predictions.iloc[:, -3].to_numpy(), lgbm_predictions.iloc[:, -2].to_numpy(), lgbm_predictions.iloc[:, -1].to_numpy(), test_df.iloc[:, -3].to_numpy(), test_df.iloc[:, -2].to_numpy(), test_df.iloc[:, -1].to_numpy())"
      ],
      "execution_count": null,
      "outputs": []
    },
    {
      "cell_type": "code",
      "metadata": {
        "colab": {
          "base_uri": "https://localhost:8080/"
        },
        "id": "ArZz-fWegBWc",
        "outputId": "bbf68179-f22e-4143-9fc1-72e113652ac4"
      },
      "source": [
        "MED"
      ],
      "execution_count": null,
      "outputs": [
        {
          "output_type": "execute_result",
          "data": {
            "text/plain": [
              "2.9721766747370624"
            ]
          },
          "metadata": {
            "tags": []
          },
          "execution_count": 36
        }
      ]
    },
    {
      "cell_type": "markdown",
      "metadata": {
        "id": "WtIDaIOrgQmy"
      },
      "source": [
        "# LBGM#2 3.44"
      ]
    },
    {
      "cell_type": "code",
      "metadata": {
        "colab": {
          "base_uri": "https://localhost:8080/"
        },
        "id": "Yl_eLYg7jHTS",
        "outputId": "fd5a5697-8351-4745-d7fd-45a565744c4c"
      },
      "source": [
        "from google.colab import drive\n",
        "drive.mount(\"/content/drive\")\n",
        "\n",
        "import os\n",
        "import json\n",
        "import glob\n",
        "import cv2\n",
        "import numpy as np\n",
        "import lightgbm as lgb\n",
        "import pandas as pd\n",
        "import seaborn as sns\n",
        "import matplotlib\n",
        "import matplotlib.pyplot as plt\n",
        "import plotly.graph_objs as go\n",
        "from sklearn.model_selection import train_test_split\n",
        "from sklearn.multioutput import RegressorChain\n",
        "\n",
        "from PIL import Image, ImageOps\n",
        "from skimage import io\n",
        "from skimage.color import rgba2rgb, rgb2xyz\n",
        "from tqdm import tqdm\n",
        "from dataclasses import dataclass\n",
        "from math import floor, ceil"
      ],
      "execution_count": null,
      "outputs": [
        {
          "output_type": "stream",
          "text": [
            "Mounted at /content/drive\n"
          ],
          "name": "stdout"
        }
      ]
    },
    {
      "cell_type": "code",
      "metadata": {
        "colab": {
          "base_uri": "https://localhost:8080/"
        },
        "id": "0vBa1pR8imJ2",
        "outputId": "7f78f575-7479-439b-e95f-d9687e9ee6be"
      },
      "source": [
        "train_dir = \"/content/drive/MyDrive/wifi-loc/train/*.csv\"\n",
        "test_dir = \"/content/drive/MyDrive/wifi-loc/test/*.csv\"\n",
        "\n",
        "# Paths for train & test files\n",
        "train_paths = sorted(glob.glob(train_dir))\n",
        "test_paths = sorted(glob.glob(test_dir))\n",
        "\n",
        "print(\"Len Train Files: {}\".format(len(train_paths)), \"\\n\" + \"Len Test Files: {}\".format(len(test_paths)))"
      ],
      "execution_count": null,
      "outputs": [
        {
          "output_type": "stream",
          "text": [
            "Len Train Files: 82 \n",
            "Len Test Files: 9\n"
          ],
          "name": "stdout"
        }
      ]
    },
    {
      "cell_type": "code",
      "metadata": {
        "id": "7JmDCCSJOPVt"
      },
      "source": [
        "train_df = pd.concat((pd.read_csv(f) for f in train_paths))\n",
        "test_df = pd.concat((pd.read_csv(f) for f in test_paths))\n",
        "\n",
        "test_df.drop(test_df.columns[-12:-6], axis=1, inplace=True)\n",
        "train_df.drop(train_df.columns[-12:-6], axis=1, inplace=True)"
      ],
      "execution_count": null,
      "outputs": []
    },
    {
      "cell_type": "code",
      "metadata": {
        "id": "KLlCk5LpimKA"
      },
      "source": [
        "def train_lgbm2():\n",
        "\n",
        "    # --- Read in data ---\n",
        "    # train_df = train_df.sample(frac=1, random_state=42)\n",
        "    \n",
        "    # train_df = pd.concat((pd.read_csv(f) for f in train_paths))\n",
        "    # test_df = pd.concat((pd.read_csv(f) for f in test_paths))\n",
        "\n",
        "    # Drop unneeded columns\n",
        "    # test_df.drop(test_df.columns[-12:-6], axis=1, inplace=True)\n",
        "    # train_df.drop(train_df.columns[-12:-6], axis=1, inplace=True)\n",
        "    # test_df = test_df.iloc[:, :-3]\n",
        "\n",
        "    # --- Data Validation ---\n",
        "    # Train features + targets\n",
        "    X = train_df.iloc[:, :-3]\n",
        "    y = train_df.iloc[:, -3:]\n",
        "\n",
        "    X_train, X_valid, y_train, y_valid = train_test_split(X, y, test_size=0.1, random_state=42)\n",
        "\n",
        "    train_data_x = lgb.Dataset(X_train, label=y_train.iloc[:, -3])\n",
        "    valid_data_x = lgb.Dataset(X_valid, label=y_valid.iloc[:, -3], reference=train_data_x)\n",
        "\n",
        "    train_data_y = lgb.Dataset(X_train, label=y_train.iloc[:, -2])\n",
        "    valid_data_y = lgb.Dataset(X_valid, label=y_valid.iloc[:, -2], reference=train_data_y)\n",
        "\n",
        "    train_data_z = lgb.Dataset(X_train, label=y_train.iloc[:, -1])\n",
        "    valid_data_z = lgb.Dataset(X_valid, label=y_valid.iloc[:, -1], reference=train_data_z)\n",
        "\n",
        "    SEARCH_PARAMS = {'learning_rate': 0.1,\n",
        "                    #  'min_data_in_leaf': 500,\n",
        "                     'max_bin ': 2000,\n",
        "                     'num_iterations': 35,\n",
        "                     'num_leaves': 2560,\n",
        "                     'max_depth': 35,\n",
        "                     # 'subsample': 0.2,\n",
        "                     # 'feature_fraction': 0.8, \n",
        "                    }\n",
        "\n",
        "    FIXED_PARAMS={'objective': 'regression_l1',\n",
        "                'boosting':'dart',\n",
        "                 }\n",
        "\n",
        "    params = {**FIXED_PARAMS,**SEARCH_PARAMS}\n",
        "\n",
        "    # --- Model Training ---\n",
        "    model_x = lgb.train(params, train_data_x, valid_sets=valid_data_x)\n",
        "\n",
        "    model_y = lgb.train(params, train_data_y, valid_sets=valid_data_y)\n",
        "\n",
        "    model_z = lgb.train(params, train_data_z, valid_sets=valid_data_z)\n",
        "    \n",
        "    lgbm_predictions = pd.DataFrame(columns=['x', 'y', 'z'])\n",
        "    lgbm_predictions.iloc[:, 0] = model_x.predict(test_df.iloc[:, :-3])\n",
        "    lgbm_predictions.iloc[:, 1] = model_y.predict(test_df.iloc[:, :-3])\n",
        "    lgbm_predictions.iloc[:, 2] = model_z.predict(test_df.iloc[:, :-3])\n",
        "\n",
        "    return model_x, model_y, model_z, lgbm_predictions"
      ],
      "execution_count": null,
      "outputs": []
    },
    {
      "cell_type": "code",
      "metadata": {
        "colab": {
          "base_uri": "https://localhost:8080/"
        },
        "id": "Sz9vtDGQimKA",
        "outputId": "45492a8a-f389-45a6-bb8e-09591c6c73fb"
      },
      "source": [
        "model_x, model_y, model_z, lgbm_predictions = train_lgbm2()"
      ],
      "execution_count": null,
      "outputs": [
        {
          "output_type": "stream",
          "text": [
            "/usr/local/lib/python3.7/dist-packages/lightgbm/engine.py:118: UserWarning:\n",
            "\n",
            "Found `num_iterations` in params. Will use it instead of argument\n",
            "\n"
          ],
          "name": "stderr"
        },
        {
          "output_type": "stream",
          "text": [
            "[1]\tvalid_0's l1: 15.8115\n",
            "[2]\tvalid_0's l1: 14.3171\n",
            "[3]\tvalid_0's l1: 12.9898\n",
            "[4]\tvalid_0's l1: 11.777\n",
            "[5]\tvalid_0's l1: 10.638\n",
            "[6]\tvalid_0's l1: 9.61581\n",
            "[7]\tvalid_0's l1: 8.75802\n",
            "[8]\tvalid_0's l1: 9.23351\n",
            "[9]\tvalid_0's l1: 8.43015\n",
            "[10]\tvalid_0's l1: 7.69122\n",
            "[11]\tvalid_0's l1: 7.03236\n",
            "[12]\tvalid_0's l1: 7.3455\n",
            "[13]\tvalid_0's l1: 6.68427\n",
            "[14]\tvalid_0's l1: 6.11603\n",
            "[15]\tvalid_0's l1: 5.60915\n",
            "[16]\tvalid_0's l1: 5.14771\n",
            "[17]\tvalid_0's l1: 4.73165\n",
            "[18]\tvalid_0's l1: 4.3489\n",
            "[19]\tvalid_0's l1: 4.00488\n",
            "[20]\tvalid_0's l1: 3.69295\n",
            "[21]\tvalid_0's l1: 3.89187\n",
            "[22]\tvalid_0's l1: 3.59247\n",
            "[23]\tvalid_0's l1: 3.31769\n",
            "[24]\tvalid_0's l1: 3.06497\n",
            "[25]\tvalid_0's l1: 2.82004\n",
            "[26]\tvalid_0's l1: 2.59674\n",
            "[27]\tvalid_0's l1: 2.39825\n",
            "[28]\tvalid_0's l1: 2.53745\n",
            "[29]\tvalid_0's l1: 2.35736\n",
            "[30]\tvalid_0's l1: 2.18614\n",
            "[31]\tvalid_0's l1: 2.3051\n",
            "[32]\tvalid_0's l1: 2.14869\n",
            "[33]\tvalid_0's l1: 1.99537\n",
            "[34]\tvalid_0's l1: 1.85183\n",
            "[35]\tvalid_0's l1: 1.9939\n",
            "[1]\tvalid_0's l1: 6.41163\n",
            "[2]\tvalid_0's l1: 5.92752\n",
            "[3]\tvalid_0's l1: 5.48614\n",
            "[4]\tvalid_0's l1: 5.0733\n",
            "[5]\tvalid_0's l1: 4.71694\n",
            "[6]\tvalid_0's l1: 4.32301\n",
            "[7]\tvalid_0's l1: 3.90313\n",
            "[8]\tvalid_0's l1: 4.079\n",
            "[9]\tvalid_0's l1: 3.74221\n",
            "[10]\tvalid_0's l1: 3.41628\n",
            "[11]\tvalid_0's l1: 3.08683\n",
            "[12]\tvalid_0's l1: 3.20518\n",
            "[13]\tvalid_0's l1: 2.93317\n",
            "[14]\tvalid_0's l1: 2.67243\n",
            "[15]\tvalid_0's l1: 2.44811\n",
            "[16]\tvalid_0's l1: 2.245\n",
            "[17]\tvalid_0's l1: 2.06366\n",
            "[18]\tvalid_0's l1: 1.89645\n",
            "[19]\tvalid_0's l1: 1.74617\n",
            "[20]\tvalid_0's l1: 1.6111\n",
            "[21]\tvalid_0's l1: 1.67441\n",
            "[22]\tvalid_0's l1: 1.55164\n",
            "[23]\tvalid_0's l1: 1.4325\n",
            "[24]\tvalid_0's l1: 1.29984\n",
            "[25]\tvalid_0's l1: 1.18483\n",
            "[26]\tvalid_0's l1: 1.08444\n",
            "[27]\tvalid_0's l1: 0.992666\n",
            "[28]\tvalid_0's l1: 1.05023\n",
            "[29]\tvalid_0's l1: 0.9632\n",
            "[30]\tvalid_0's l1: 0.884812\n",
            "[31]\tvalid_0's l1: 0.931301\n",
            "[32]\tvalid_0's l1: 0.859722\n",
            "[33]\tvalid_0's l1: 0.792252\n",
            "[34]\tvalid_0's l1: 0.728249\n",
            "[35]\tvalid_0's l1: 0.78844\n",
            "[1]\tvalid_0's l1: 2.8358\n",
            "[2]\tvalid_0's l1: 2.55408\n",
            "[3]\tvalid_0's l1: 2.30102\n",
            "[4]\tvalid_0's l1: 2.07374\n",
            "[5]\tvalid_0's l1: 1.86783\n",
            "[6]\tvalid_0's l1: 1.68318\n",
            "[7]\tvalid_0's l1: 1.51679\n",
            "[8]\tvalid_0's l1: 1.6069\n",
            "[9]\tvalid_0's l1: 1.44756\n",
            "[10]\tvalid_0's l1: 1.30393\n",
            "[11]\tvalid_0's l1: 1.17492\n",
            "[12]\tvalid_0's l1: 1.23645\n",
            "[13]\tvalid_0's l1: 1.11378\n",
            "[14]\tvalid_0's l1: 1.00324\n",
            "[15]\tvalid_0's l1: 0.903763\n",
            "[16]\tvalid_0's l1: 0.814307\n",
            "[17]\tvalid_0's l1: 0.733749\n",
            "[18]\tvalid_0's l1: 0.66104\n",
            "[19]\tvalid_0's l1: 0.595956\n",
            "[20]\tvalid_0's l1: 0.537027\n",
            "[21]\tvalid_0's l1: 0.578184\n",
            "[22]\tvalid_0's l1: 0.521024\n",
            "[23]\tvalid_0's l1: 0.469568\n",
            "[24]\tvalid_0's l1: 0.423181\n",
            "[25]\tvalid_0's l1: 0.381577\n",
            "[26]\tvalid_0's l1: 0.344173\n",
            "[27]\tvalid_0's l1: 0.310309\n",
            "[28]\tvalid_0's l1: 0.339855\n",
            "[29]\tvalid_0's l1: 0.306436\n",
            "[30]\tvalid_0's l1: 0.276247\n",
            "[31]\tvalid_0's l1: 0.302965\n",
            "[32]\tvalid_0's l1: 0.27318\n",
            "[33]\tvalid_0's l1: 0.246386\n",
            "[34]\tvalid_0's l1: 0.222167\n",
            "[35]\tvalid_0's l1: 0.25141\n"
          ],
          "name": "stdout"
        }
      ]
    },
    {
      "cell_type": "code",
      "metadata": {
        "id": "8W3IBCsXimKB"
      },
      "source": [
        "test_df = pd.concat((pd.read_csv(f) for f in test_paths))\n",
        "MED = mean_error_dist(lgbm_predictions.iloc[:, -3].to_numpy(), lgbm_predictions.iloc[:, -2].to_numpy(), lgbm_predictions.iloc[:, -1].to_numpy(), test_df.iloc[:, -3].to_numpy(), test_df.iloc[:, -2].to_numpy(), test_df.iloc[:, -1].to_numpy())"
      ],
      "execution_count": null,
      "outputs": []
    },
    {
      "cell_type": "code",
      "metadata": {
        "id": "vcp_uWHNimKB",
        "colab": {
          "base_uri": "https://localhost:8080/"
        },
        "outputId": "31ec33f2-9f28-4e5e-b0da-4d9093197e21"
      },
      "source": [
        "MED"
      ],
      "execution_count": null,
      "outputs": [
        {
          "output_type": "execute_result",
          "data": {
            "text/plain": [
              "3.4497551153870165"
            ]
          },
          "metadata": {
            "tags": []
          },
          "execution_count": 44
        }
      ]
    },
    {
      "cell_type": "markdown",
      "metadata": {
        "id": "PVcEDsSGCDuE"
      },
      "source": [
        "# LGBM#3"
      ]
    },
    {
      "cell_type": "code",
      "metadata": {
        "colab": {
          "base_uri": "https://localhost:8080/"
        },
        "id": "3nWnOgb2CSdt",
        "outputId": "fd5a5697-8351-4745-d7fd-45a565744c4c"
      },
      "source": [
        "from google.colab import drive\n",
        "drive.mount(\"/content/drive\")\n",
        "\n",
        "import os\n",
        "import json\n",
        "import glob\n",
        "import cv2\n",
        "import numpy as np\n",
        "import lightgbm as lgb\n",
        "import pandas as pd\n",
        "import seaborn as sns\n",
        "import matplotlib\n",
        "import matplotlib.pyplot as plt\n",
        "import plotly.graph_objs as go\n",
        "from sklearn.model_selection import train_test_split\n",
        "from sklearn.multioutput import RegressorChain\n",
        "\n",
        "from PIL import Image, ImageOps\n",
        "from skimage import io\n",
        "from skimage.color import rgba2rgb, rgb2xyz\n",
        "from tqdm import tqdm\n",
        "from dataclasses import dataclass\n",
        "from math import floor, ceil"
      ],
      "execution_count": null,
      "outputs": [
        {
          "output_type": "stream",
          "text": [
            "Mounted at /content/drive\n"
          ],
          "name": "stdout"
        }
      ]
    },
    {
      "cell_type": "code",
      "metadata": {
        "colab": {
          "base_uri": "https://localhost:8080/"
        },
        "id": "i8-NJFv0CSd3",
        "outputId": "e4391dd1-2457-4732-b275-8df30864be62"
      },
      "source": [
        "train_dir = \"/content/drive/MyDrive/wifi-loc/train/*.csv\"\n",
        "test_dir = \"/content/drive/MyDrive/wifi-loc/test/*.csv\"\n",
        "\n",
        "# Paths for train & test files\n",
        "train_paths = sorted(glob.glob(train_dir))\n",
        "test_paths = sorted(glob.glob(test_dir))\n",
        "\n",
        "print(\"Len Train Files: {}\".format(len(train_paths)), \"\\n\" + \"Len Test Files: {}\".format(len(test_paths)))"
      ],
      "execution_count": null,
      "outputs": [
        {
          "output_type": "stream",
          "text": [
            "Len Train Files: 83 \n",
            "Len Test Files: 8\n"
          ],
          "name": "stdout"
        }
      ]
    },
    {
      "cell_type": "code",
      "metadata": {
        "id": "_JuFOw-kDvAC"
      },
      "source": [
        "train_df = pd.concat((pd.read_csv(f) for f in train_paths))\n",
        "test_df = pd.concat((pd.read_csv(f) for f in test_paths))"
      ],
      "execution_count": null,
      "outputs": []
    },
    {
      "cell_type": "code",
      "metadata": {
        "id": "IaSyWaCKCSd4"
      },
      "source": [
        "def train_lgbm3():\n",
        "\n",
        "    # --- Read in data ---\n",
        "    # train_df = train_df.sample(frac=1, random_state=42)\n",
        "    \n",
        "    # train_df = pd.concat((pd.read_csv(f) for f in train_paths))\n",
        "    # test_df = pd.concat((pd.read_csv(f) for f in test_paths))\n",
        "\n",
        "    # Drop unneeded columns\n",
        "    test_df.drop(test_df.columns[-12:-6], axis=1, inplace=True)\n",
        "    train_df.drop(train_df.columns[-12:-6], axis=1, inplace=True)\n",
        "    # test_df = test_df.iloc[:, :-3]\n",
        "\n",
        "    # --- Data Validation ---\n",
        "    # Train features + targets\n",
        "    X = train_df.iloc[:, :-3]\n",
        "    y = train_df.iloc[:, -3:]\n",
        "\n",
        "    X_train, X_valid, y_train, y_valid = train_test_split(X, y, test_size=0.2, random_state=42)\n",
        "\n",
        "    train_data_x = lgb.Dataset(X_train, label=y_train.iloc[:, -3])\n",
        "    valid_data_x = lgb.Dataset(X_valid, label=y_valid.iloc[:, -3], reference=train_data_x)\n",
        "\n",
        "    train_data_y = lgb.Dataset(X_train, label=y_train.iloc[:, -2])\n",
        "    valid_data_y = lgb.Dataset(X_valid, label=y_valid.iloc[:, -2], reference=train_data_y)\n",
        "\n",
        "    train_data_z = lgb.Dataset(X_train, label=y_train.iloc[:, -1])\n",
        "    valid_data_z = lgb.Dataset(X_valid, label=y_valid.iloc[:, -1], reference=train_data_z)\n",
        "\n",
        "    SEARCH_PARAMS = {'learning_rate': 0.4,\n",
        "                    #  'min_data_in_leaf': 500,\n",
        "                     'max_bin ': 1000,\n",
        "                     'num_iterations': 40,\n",
        "                     'num_leaves': 1000,\n",
        "                     'max_depth': 25,\n",
        "                     # 'subsample': 0.2,\n",
        "                     # 'feature_fraction': 0.8, \n",
        "                    }\n",
        "\n",
        "    FIXED_PARAMS={'objective': 'regression_l1',\n",
        "                'boosting':'dart',\n",
        "                 }\n",
        "\n",
        "    params = {**FIXED_PARAMS,**SEARCH_PARAMS}\n",
        "\n",
        "    # --- Model Training ---\n",
        "    model_x = lgb.train(params, train_data_x, valid_sets=valid_data_x)\n",
        "\n",
        "    model_y = lgb.train(params, train_data_y, valid_sets=valid_data_y)\n",
        "\n",
        "    model_z = lgb.train(params, train_data_z, valid_sets=valid_data_z)\n",
        "    \n",
        "    lgbm_predictions = pd.DataFrame(columns=['x', 'y', 'z'])\n",
        "    lgbm_predictions.iloc[:, 0] = model_x.predict(test_df.iloc[:, :-3])\n",
        "    lgbm_predictions.iloc[:, 1] = model_y.predict(test_df.iloc[:, :-3])\n",
        "    lgbm_predictions.iloc[:, 2] = model_z.predict(test_df.iloc[:, :-3])\n",
        "\n",
        "    return model_x, model_y, model_z, lgbm_predictions"
      ],
      "execution_count": null,
      "outputs": []
    },
    {
      "cell_type": "code",
      "metadata": {
        "colab": {
          "base_uri": "https://localhost:8080/"
        },
        "id": "o0aOATlYCSd4",
        "outputId": "b6f46955-32ad-4d1a-c285-ac5a0b5b2118"
      },
      "source": [
        "model_x, model_y, model_z, lgbm_predictions = train_lgbm3()"
      ],
      "execution_count": null,
      "outputs": [
        {
          "output_type": "stream",
          "text": [
            "/usr/local/lib/python3.7/dist-packages/lightgbm/engine.py:118: UserWarning:\n",
            "\n",
            "Found `num_iterations` in params. Will use it instead of argument\n",
            "\n"
          ],
          "name": "stderr"
        },
        {
          "output_type": "stream",
          "text": [
            "[1]\tvalid_0's l1: 10.8929\n",
            "[2]\tvalid_0's l1: 7.15075\n",
            "[3]\tvalid_0's l1: 4.89042\n",
            "[4]\tvalid_0's l1: 3.47761\n",
            "[5]\tvalid_0's l1: 2.60381\n",
            "[6]\tvalid_0's l1: 1.96262\n",
            "[7]\tvalid_0's l1: 1.54417\n",
            "[8]\tvalid_0's l1: 2.14322\n",
            "[9]\tvalid_0's l1: 1.68768\n",
            "[10]\tvalid_0's l1: 1.33635\n",
            "[11]\tvalid_0's l1: 1.0495\n",
            "[12]\tvalid_0's l1: 1.20263\n",
            "[13]\tvalid_0's l1: 0.986054\n",
            "[14]\tvalid_0's l1: 0.809911\n",
            "[15]\tvalid_0's l1: 0.67749\n",
            "[16]\tvalid_0's l1: 0.59151\n",
            "[17]\tvalid_0's l1: 0.525025\n",
            "[18]\tvalid_0's l1: 0.473176\n",
            "[19]\tvalid_0's l1: 0.434865\n",
            "[20]\tvalid_0's l1: 0.406194\n",
            "[21]\tvalid_0's l1: 0.46143\n",
            "[22]\tvalid_0's l1: 0.414101\n",
            "[23]\tvalid_0's l1: 0.380254\n",
            "[24]\tvalid_0's l1: 0.353183\n",
            "[25]\tvalid_0's l1: 0.329543\n",
            "[26]\tvalid_0's l1: 0.312951\n",
            "[27]\tvalid_0's l1: 0.298067\n",
            "[28]\tvalid_0's l1: 0.315133\n",
            "[29]\tvalid_0's l1: 0.29868\n",
            "[30]\tvalid_0's l1: 0.285224\n",
            "[31]\tvalid_0's l1: 0.299968\n",
            "[32]\tvalid_0's l1: 0.284105\n",
            "[33]\tvalid_0's l1: 0.272331\n",
            "[34]\tvalid_0's l1: 0.264221\n",
            "[35]\tvalid_0's l1: 0.274814\n",
            "[36]\tvalid_0's l1: 0.386477\n",
            "[37]\tvalid_0's l1: 0.327324\n",
            "[38]\tvalid_0's l1: 0.294964\n",
            "[39]\tvalid_0's l1: 0.273695\n",
            "[40]\tvalid_0's l1: 0.379357\n",
            "[1]\tvalid_0's l1: 4.78879\n",
            "[2]\tvalid_0's l1: 3.47345\n",
            "[3]\tvalid_0's l1: 2.44114\n",
            "[4]\tvalid_0's l1: 1.74726\n",
            "[5]\tvalid_0's l1: 1.22154\n",
            "[6]\tvalid_0's l1: 0.892787\n",
            "[7]\tvalid_0's l1: 0.682111\n",
            "[8]\tvalid_0's l1: 0.92829\n",
            "[9]\tvalid_0's l1: 0.729208\n",
            "[10]\tvalid_0's l1: 0.577633\n",
            "[11]\tvalid_0's l1: 0.471311\n",
            "[12]\tvalid_0's l1: 0.55425\n",
            "[13]\tvalid_0's l1: 0.444484\n",
            "[14]\tvalid_0's l1: 0.373836\n",
            "[15]\tvalid_0's l1: 0.323666\n",
            "[16]\tvalid_0's l1: 0.288376\n",
            "[17]\tvalid_0's l1: 0.258261\n",
            "[18]\tvalid_0's l1: 0.239763\n",
            "[19]\tvalid_0's l1: 0.224239\n",
            "[20]\tvalid_0's l1: 0.211968\n",
            "[21]\tvalid_0's l1: 0.256591\n",
            "[22]\tvalid_0's l1: 0.226214\n",
            "[23]\tvalid_0's l1: 0.206691\n",
            "[24]\tvalid_0's l1: 0.192412\n",
            "[25]\tvalid_0's l1: 0.181338\n",
            "[26]\tvalid_0's l1: 0.173431\n",
            "[27]\tvalid_0's l1: 0.167374\n",
            "[28]\tvalid_0's l1: 0.174981\n",
            "[29]\tvalid_0's l1: 0.167053\n",
            "[30]\tvalid_0's l1: 0.160724\n",
            "[31]\tvalid_0's l1: 0.166649\n",
            "[32]\tvalid_0's l1: 0.15949\n",
            "[33]\tvalid_0's l1: 0.154831\n",
            "[34]\tvalid_0's l1: 0.150684\n",
            "[35]\tvalid_0's l1: 0.156324\n",
            "[36]\tvalid_0's l1: 0.206321\n",
            "[37]\tvalid_0's l1: 0.178242\n",
            "[38]\tvalid_0's l1: 0.162927\n",
            "[39]\tvalid_0's l1: 0.153991\n",
            "[40]\tvalid_0's l1: 0.187116\n",
            "[1]\tvalid_0's l1: 1.81236\n",
            "[2]\tvalid_0's l1: 1.10664\n",
            "[3]\tvalid_0's l1: 0.677876\n",
            "[4]\tvalid_0's l1: 0.421941\n",
            "[5]\tvalid_0's l1: 0.26766\n",
            "[6]\tvalid_0's l1: 0.175008\n",
            "[7]\tvalid_0's l1: 0.116665\n",
            "[8]\tvalid_0's l1: 0.262204\n",
            "[9]\tvalid_0's l1: 0.167601\n",
            "[10]\tvalid_0's l1: 0.110579\n",
            "[11]\tvalid_0's l1: 0.0774469\n",
            "[12]\tvalid_0's l1: 0.107301\n",
            "[13]\tvalid_0's l1: 0.0752421\n",
            "[14]\tvalid_0's l1: 0.0558039\n",
            "[15]\tvalid_0's l1: 0.0447\n",
            "[16]\tvalid_0's l1: 0.038268\n",
            "[17]\tvalid_0's l1: 0.0339116\n",
            "[18]\tvalid_0's l1: 0.0312337\n",
            "[19]\tvalid_0's l1: 0.0293942\n",
            "[20]\tvalid_0's l1: 0.0274167\n",
            "[21]\tvalid_0's l1: 0.044268\n",
            "[22]\tvalid_0's l1: 0.0333684\n",
            "[23]\tvalid_0's l1: 0.0264522\n",
            "[24]\tvalid_0's l1: 0.0226245\n",
            "[25]\tvalid_0's l1: 0.0202365\n",
            "[26]\tvalid_0's l1: 0.0184737\n",
            "[27]\tvalid_0's l1: 0.017403\n",
            "[28]\tvalid_0's l1: 0.020298\n",
            "[29]\tvalid_0's l1: 0.0181623\n",
            "[30]\tvalid_0's l1: 0.0168565\n",
            "[31]\tvalid_0's l1: 0.0184118\n",
            "[32]\tvalid_0's l1: 0.0168752\n",
            "[33]\tvalid_0's l1: 0.0159455\n",
            "[34]\tvalid_0's l1: 0.015265\n",
            "[35]\tvalid_0's l1: 0.0168114\n",
            "[36]\tvalid_0's l1: 0.0443347\n",
            "[37]\tvalid_0's l1: 0.0313388\n",
            "[38]\tvalid_0's l1: 0.0235559\n",
            "[39]\tvalid_0's l1: 0.0189605\n",
            "[40]\tvalid_0's l1: 0.0528344\n"
          ],
          "name": "stdout"
        }
      ]
    },
    {
      "cell_type": "code",
      "metadata": {
        "id": "6f7JUOlICSd5"
      },
      "source": [
        "# test_df = pd.concat((pd.read_csv(f) for f in test_paths))\n",
        "MED = mean_error_dist(lgbm_predictions.iloc[:, -3].to_numpy(), lgbm_predictions.iloc[:, -2].to_numpy(), lgbm_predictions.iloc[:, -1].to_numpy(), test_df.iloc[:, -3].to_numpy(), test_df.iloc[:, -2].to_numpy(), test_df.iloc[:, -1].to_numpy())"
      ],
      "execution_count": null,
      "outputs": []
    },
    {
      "cell_type": "code",
      "metadata": {
        "colab": {
          "base_uri": "https://localhost:8080/"
        },
        "id": "aPo0VKe_CSd5",
        "outputId": "835f6fa9-aca9-4f54-ccf2-a926ed16d842"
      },
      "source": [
        "MED"
      ],
      "execution_count": null,
      "outputs": [
        {
          "output_type": "execute_result",
          "data": {
            "text/plain": [
              "6.430963510986318"
            ]
          },
          "metadata": {
            "tags": []
          },
          "execution_count": 23
        }
      ]
    },
    {
      "cell_type": "markdown",
      "metadata": {
        "id": "vsU7GTvuGiKi"
      },
      "source": [
        "# LBGM floor classification"
      ]
    },
    {
      "cell_type": "code",
      "metadata": {
        "id": "yFOPDLO-vClm"
      },
      "source": [
        ""
      ],
      "execution_count": null,
      "outputs": []
    },
    {
      "cell_type": "markdown",
      "metadata": {
        "id": "b-NKmnZXZi1t"
      },
      "source": [
        "# LightBGM 2.97"
      ]
    },
    {
      "cell_type": "code",
      "metadata": {
        "colab": {
          "base_uri": "https://localhost:8080/"
        },
        "id": "HSrYNJEbZi1v",
        "outputId": "fef019b0-51ac-40a7-94e1-1d9d73e32828"
      },
      "source": [
        "from google.colab import drive\n",
        "drive.mount(\"/content/drive\")\n",
        "\n",
        "import os\n",
        "import json\n",
        "import glob\n",
        "import cv2\n",
        "import numpy as np\n",
        "import lightgbm as lgb\n",
        "import pandas as pd\n",
        "import seaborn as sns\n",
        "import matplotlib\n",
        "import matplotlib.pyplot as plt\n",
        "import plotly.graph_objs as go\n",
        "from sklearn.model_selection import train_test_split\n",
        "from sklearn.multioutput import RegressorChain\n",
        "\n",
        "from PIL import Image, ImageOps\n",
        "from skimage import io\n",
        "from skimage.color import rgba2rgb, rgb2xyz\n",
        "from tqdm import tqdm\n",
        "from dataclasses import dataclass\n",
        "from math import floor, ceil"
      ],
      "execution_count": 1,
      "outputs": [
        {
          "output_type": "stream",
          "text": [
            "Mounted at /content/drive\n"
          ],
          "name": "stdout"
        }
      ]
    },
    {
      "cell_type": "code",
      "metadata": {
        "colab": {
          "base_uri": "https://localhost:8080/"
        },
        "id": "U6Iu2MVGZi1w",
        "outputId": "ccb7a4ec-11db-45e8-e6d4-2db26111dc4e"
      },
      "source": [
        "train_dir = \"/content/drive/MyDrive/wifi-loc/train/*.csv\"\n",
        "test_dir = \"/content/drive/MyDrive/wifi-loc/test/*.csv\"\n",
        "\n",
        "# Paths for train & test files\n",
        "train_paths = sorted(glob.glob(train_dir))\n",
        "test_paths = sorted(glob.glob(test_dir))\n",
        "\n",
        "print(\"Len Train Files: {}\".format(len(train_paths)), \"\\n\" + \"Len Test Files: {}\".format(len(test_paths)))"
      ],
      "execution_count": 2,
      "outputs": [
        {
          "output_type": "stream",
          "text": [
            "Len Train Files: 82 \n",
            "Len Test Files: 9\n"
          ],
          "name": "stdout"
        }
      ]
    },
    {
      "cell_type": "code",
      "metadata": {
        "id": "8sQCRPkZZi1x"
      },
      "source": [
        "train_df = pd.concat((pd.read_csv(f) for f in train_paths))\n",
        "test_df = pd.concat((pd.read_csv(f) for f in test_paths))\n",
        "\n",
        "test_df.drop(test_df.columns[-12:-6], axis=1, inplace=True)\n",
        "train_df.drop(train_df.columns[-12:-6], axis=1, inplace=True)"
      ],
      "execution_count": 3,
      "outputs": []
    },
    {
      "cell_type": "code",
      "metadata": {
        "id": "e6_NKN9dZi1x"
      },
      "source": [
        "def train_lgbm1():\n",
        "\n",
        "    # --- Read in data ---\n",
        "    # train_df = train_df.sample(frac=1, random_state=42)\n",
        "    \n",
        "    # train_df = pd.concat((pd.read_csv(f) for f in train_paths))\n",
        "    # test_df = pd.concat((pd.read_csv(f) for f in test_paths))\n",
        "\n",
        "    # Drop unneeded columns\n",
        "    # test_df.drop(test_df.columns[-12:-6], axis=1, inplace=True)\n",
        "    # train_df.drop(train_df.columns[-12:-6], axis=1, inplace=True)\n",
        "    # test_df = test_df.iloc[:, :-3]\n",
        "\n",
        "    # --- Data Validation ---\n",
        "    # Train features + targets\n",
        "    X = train_df.iloc[:, :-3]\n",
        "    y = train_df.iloc[:, -3:]\n",
        "\n",
        "    # First train for floors and predict floors. add that data for testing for x and y\n",
        "\n",
        "    \n",
        "\n",
        "    X_train, X_valid, y_train, y_valid = train_test_split(X, y, test_size=0.2, random_state=42)\n",
        "\n",
        "    train_data_x = lgb.Dataset(X_train, label=y_train.iloc[:, -3])\n",
        "    valid_data_x = lgb.Dataset(X_valid, label=y_valid.iloc[:, -3], reference=train_data_x)\n",
        "\n",
        "    train_data_y = lgb.Dataset(X_train, label=y_train.iloc[:, -2])\n",
        "    valid_data_y = lgb.Dataset(X_valid, label=y_valid.iloc[:, -2], reference=train_data_y)\n",
        "\n",
        "    train_data_z = lgb.Dataset(X_train, label=y_train.iloc[:, -1])\n",
        "    valid_data_z = lgb.Dataset(X_valid, label=y_valid.iloc[:, -1], reference=train_data_z)\n",
        "\n",
        "    SEARCH_PARAMS = {'learning_rate': 0.5,\n",
        "                    #  'min_data_in_leaf': 500,\n",
        "                     'max_bin ': 2000,\n",
        "                     'num_iterations': 30,\n",
        "                     'num_leaves': 2560,\n",
        "                     'max_depth': 35,\n",
        "                     # 'subsample': 0.2,\n",
        "                     # 'feature_fraction': 0.8, \n",
        "                    }\n",
        "\n",
        "    FIXED_PARAMS={'objective': 'regression_l1',\n",
        "                'boosting':'dart',\n",
        "                 }\n",
        "\n",
        "    params = {**FIXED_PARAMS,**SEARCH_PARAMS}\n",
        "\n",
        "    # --- Model Training ---\n",
        "    model_x = lgb.train(params, train_data_x, valid_sets=valid_data_x)\n",
        "\n",
        "    model_y = lgb.train(params, train_data_y, valid_sets=valid_data_y)\n",
        "\n",
        "    model_z = lgb.train(params, train_data_z, valid_sets=valid_data_z)\n",
        "    \n",
        "    lgbm_predictions = pd.DataFrame(columns=['x', 'y', 'z'])\n",
        "    lgbm_predictions.iloc[:, 0] = model_x.predict(test_df.iloc[:, :-3])\n",
        "    lgbm_predictions.iloc[:, 1] = model_y.predict(test_df.iloc[:, :-3])\n",
        "    lgbm_predictions.iloc[:, 2] = model_z.predict(test_df.iloc[:, :-3])\n",
        "\n",
        "    return model_x, model_y, model_z, lgbm_predictions"
      ],
      "execution_count": null,
      "outputs": []
    },
    {
      "cell_type": "code",
      "metadata": {
        "colab": {
          "base_uri": "https://localhost:8080/"
        },
        "id": "OrXQ22PhZi1x",
        "outputId": "e97d1dff-4f55-4846-976b-79e8975bd0c4"
      },
      "source": [
        "model_x, model_y, model_z, lgbm_predictions = train_lgbm1()"
      ],
      "execution_count": null,
      "outputs": [
        {
          "output_type": "stream",
          "text": [
            "/usr/local/lib/python3.7/dist-packages/lightgbm/engine.py:118: UserWarning:\n",
            "\n",
            "Found `num_iterations` in params. Will use it instead of argument\n",
            "\n"
          ],
          "name": "stderr"
        },
        {
          "output_type": "stream",
          "text": [
            "[1]\tvalid_0's l1: 9.59254\n",
            "[2]\tvalid_0's l1: 5.64686\n",
            "[3]\tvalid_0's l1: 3.55557\n",
            "[4]\tvalid_0's l1: 2.48743\n",
            "[5]\tvalid_0's l1: 1.75215\n",
            "[6]\tvalid_0's l1: 1.22484\n",
            "[7]\tvalid_0's l1: 0.905466\n",
            "[8]\tvalid_0's l1: 1.46438\n",
            "[9]\tvalid_0's l1: 1.06678\n",
            "[10]\tvalid_0's l1: 0.834572\n",
            "[11]\tvalid_0's l1: 0.654417\n",
            "[12]\tvalid_0's l1: 0.762583\n",
            "[13]\tvalid_0's l1: 0.593082\n",
            "[14]\tvalid_0's l1: 0.469746\n",
            "[15]\tvalid_0's l1: 0.386801\n",
            "[16]\tvalid_0's l1: 0.33198\n",
            "[17]\tvalid_0's l1: 0.298123\n",
            "[18]\tvalid_0's l1: 0.272692\n",
            "[19]\tvalid_0's l1: 0.255573\n",
            "[20]\tvalid_0's l1: 0.242294\n",
            "[21]\tvalid_0's l1: 0.294778\n",
            "[22]\tvalid_0's l1: 0.255084\n",
            "[23]\tvalid_0's l1: 0.235591\n",
            "[24]\tvalid_0's l1: 0.223605\n",
            "[25]\tvalid_0's l1: 0.214546\n",
            "[26]\tvalid_0's l1: 0.208603\n",
            "[27]\tvalid_0's l1: 0.203736\n",
            "[28]\tvalid_0's l1: 0.216976\n",
            "[29]\tvalid_0's l1: 0.20669\n",
            "[30]\tvalid_0's l1: 0.200747\n",
            "[1]\tvalid_0's l1: 4.28636\n",
            "[2]\tvalid_0's l1: 2.78199\n",
            "[3]\tvalid_0's l1: 1.75525\n",
            "[4]\tvalid_0's l1: 1.17884\n",
            "[5]\tvalid_0's l1: 0.817611\n",
            "[6]\tvalid_0's l1: 0.54292\n",
            "[7]\tvalid_0's l1: 0.402141\n",
            "[8]\tvalid_0's l1: 0.63875\n",
            "[9]\tvalid_0's l1: 0.453466\n",
            "[10]\tvalid_0's l1: 0.342758\n",
            "[11]\tvalid_0's l1: 0.271602\n",
            "[12]\tvalid_0's l1: 0.323511\n",
            "[13]\tvalid_0's l1: 0.257703\n",
            "[14]\tvalid_0's l1: 0.215305\n",
            "[15]\tvalid_0's l1: 0.189963\n",
            "[16]\tvalid_0's l1: 0.172917\n",
            "[17]\tvalid_0's l1: 0.160856\n",
            "[18]\tvalid_0's l1: 0.151771\n",
            "[19]\tvalid_0's l1: 0.143879\n",
            "[20]\tvalid_0's l1: 0.137026\n",
            "[21]\tvalid_0's l1: 0.165647\n",
            "[22]\tvalid_0's l1: 0.145662\n",
            "[23]\tvalid_0's l1: 0.135323\n",
            "[24]\tvalid_0's l1: 0.128988\n",
            "[25]\tvalid_0's l1: 0.12474\n",
            "[26]\tvalid_0's l1: 0.12185\n",
            "[27]\tvalid_0's l1: 0.119738\n",
            "[28]\tvalid_0's l1: 0.124263\n",
            "[29]\tvalid_0's l1: 0.120269\n",
            "[30]\tvalid_0's l1: 0.117783\n",
            "[1]\tvalid_0's l1: 1.52338\n",
            "[2]\tvalid_0's l1: 0.788733\n",
            "[3]\tvalid_0's l1: 0.414215\n",
            "[4]\tvalid_0's l1: 0.224684\n",
            "[5]\tvalid_0's l1: 0.12942\n",
            "[6]\tvalid_0's l1: 0.0811185\n",
            "[7]\tvalid_0's l1: 0.0568863\n",
            "[8]\tvalid_0's l1: 0.179586\n",
            "[9]\tvalid_0's l1: 0.102784\n",
            "[10]\tvalid_0's l1: 0.0630174\n",
            "[11]\tvalid_0's l1: 0.046524\n",
            "[12]\tvalid_0's l1: 0.0587191\n",
            "[13]\tvalid_0's l1: 0.0437258\n",
            "[14]\tvalid_0's l1: 0.0319197\n",
            "[15]\tvalid_0's l1: 0.0263056\n",
            "[16]\tvalid_0's l1: 0.0228242\n",
            "[17]\tvalid_0's l1: 0.0207274\n",
            "[18]\tvalid_0's l1: 0.019118\n",
            "[19]\tvalid_0's l1: 0.0181157\n",
            "[20]\tvalid_0's l1: 0.0167902\n",
            "[21]\tvalid_0's l1: 0.0252683\n",
            "[22]\tvalid_0's l1: 0.0185128\n",
            "[23]\tvalid_0's l1: 0.0152341\n",
            "[24]\tvalid_0's l1: 0.0134561\n",
            "[25]\tvalid_0's l1: 0.0123197\n",
            "[26]\tvalid_0's l1: 0.0116534\n",
            "[27]\tvalid_0's l1: 0.0113132\n",
            "[28]\tvalid_0's l1: 0.0128713\n",
            "[29]\tvalid_0's l1: 0.0115699\n",
            "[30]\tvalid_0's l1: 0.0108376\n"
          ],
          "name": "stdout"
        }
      ]
    },
    {
      "cell_type": "code",
      "metadata": {
        "id": "pTQuBbbWZi1y"
      },
      "source": [
        "MED = mean_error_dist(lgbm_predictions.iloc[:, -3].to_numpy(), lgbm_predictions.iloc[:, -2].to_numpy(), lgbm_predictions.iloc[:, -1].to_numpy(), test_df.iloc[:, -3].to_numpy(), test_df.iloc[:, -2].to_numpy(), test_df.iloc[:, -1].to_numpy())"
      ],
      "execution_count": null,
      "outputs": []
    },
    {
      "cell_type": "code",
      "metadata": {
        "colab": {
          "base_uri": "https://localhost:8080/"
        },
        "id": "KnaRxyCfZi1y",
        "outputId": "bbf68179-f22e-4143-9fc1-72e113652ac4"
      },
      "source": [
        "MED"
      ],
      "execution_count": null,
      "outputs": [
        {
          "output_type": "execute_result",
          "data": {
            "text/plain": [
              "2.9721766747370624"
            ]
          },
          "metadata": {
            "tags": []
          },
          "execution_count": 36
        }
      ]
    }
  ]
}