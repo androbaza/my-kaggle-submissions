{
 "cells": [
  {
   "cell_type": "code",
   "execution_count": 1,
   "metadata": {
    "colab": {
     "base_uri": "https://localhost:8080/"
    },
    "id": "iLIyVJgRHAZ8",
    "outputId": "5369d273-e0b3-466d-9fe3-3fc014a34539"
   },
   "outputs": [
    {
     "name": "stdout",
     "output_type": "stream",
     "text": [
      "System version: 3.6.11 | packaged by conda-forge | (default, Nov 27 2020, 18:57:37) \n",
      "[GCC 9.3.0]\n",
      "Cornac version: 1.12.0\n"
     ]
    }
   ],
   "source": [
    "# from google.colab import drive\n",
    "# drive.mount('/content/drive')\n",
    "\n",
    "# %cd /content/drive/MyDrive/wifi-loc/my-magnum\n",
    "# Model parameters\n",
    "NUM_FACTORS = 150\n",
    "NUM_EPOCHS = 250\n",
    "SEED = 42\n",
    "\n",
    "import sys\n",
    "sys.path.append(\"../../\")\n",
    "import os\n",
    "import cornac\n",
    "import papermill as pm\n",
    "import scrapbook as sb\n",
    "import pandas as pd\n",
    "import numpy as np\n",
    "pd.set_option(\"max_rows\", None)\n",
    "pd.set_option(\"max_columns\", None)\n",
    "from reco_utils.dataset import movielens\n",
    "from reco_utils.dataset.python_splitters import python_random_split\n",
    "from reco_utils.evaluation.python_evaluation import map_at_k, ndcg_at_k, precision_at_k, recall_at_k\n",
    "from reco_utils.recommender.cornac.cornac_utils import predict_ranking\n",
    "from reco_utils.common.timer import Timer\n",
    "from reco_utils.common.constants import SEED\n",
    "\n",
    "print(\"System version: {}\".format(sys.version))\n",
    "print(\"Cornac version: {}\".format(cornac.__version__))"
   ]
  },
  {
   "cell_type": "code",
   "execution_count": 17,
   "metadata": {},
   "outputs": [
    {
     "data": {
      "text/html": [
       "<div>\n",
       "<style scoped>\n",
       "    .dataframe tbody tr th:only-of-type {\n",
       "        vertical-align: middle;\n",
       "    }\n",
       "\n",
       "    .dataframe tbody tr th {\n",
       "        vertical-align: top;\n",
       "    }\n",
       "\n",
       "    .dataframe thead th {\n",
       "        text-align: right;\n",
       "    }\n",
       "</style>\n",
       "<table border=\"1\" class=\"dataframe\">\n",
       "  <thead>\n",
       "    <tr style=\"text-align: right;\">\n",
       "      <th></th>\n",
       "      <th>userID</th>\n",
       "      <th>itemID</th>\n",
       "      <th>rating</th>\n",
       "    </tr>\n",
       "  </thead>\n",
       "  <tbody>\n",
       "    <tr>\n",
       "      <th>0</th>\n",
       "      <td>0</td>\n",
       "      <td>3</td>\n",
       "      <td>5</td>\n",
       "    </tr>\n",
       "    <tr>\n",
       "      <th>1</th>\n",
       "      <td>0</td>\n",
       "      <td>4</td>\n",
       "      <td>5</td>\n",
       "    </tr>\n",
       "    <tr>\n",
       "      <th>2</th>\n",
       "      <td>0</td>\n",
       "      <td>5</td>\n",
       "      <td>5</td>\n",
       "    </tr>\n",
       "    <tr>\n",
       "      <th>3</th>\n",
       "      <td>0</td>\n",
       "      <td>23</td>\n",
       "      <td>5</td>\n",
       "    </tr>\n",
       "    <tr>\n",
       "      <th>4</th>\n",
       "      <td>0</td>\n",
       "      <td>35</td>\n",
       "      <td>5</td>\n",
       "    </tr>\n",
       "  </tbody>\n",
       "</table>\n",
       "</div>"
      ],
      "text/plain": [
       "   userID  itemID  rating\n",
       "0       0       3       5\n",
       "1       0       4       5\n",
       "2       0       5       5\n",
       "3       0      23       5\n",
       "4       0      35       5"
      ]
     },
     "execution_count": 17,
     "metadata": {},
     "output_type": "execute_result"
    }
   ],
   "source": [
    "data = pd.read_csv('3col_15M_1500_11000.csv')\n",
    "# data.drop(columns=['Unnamed: 0'], inplace=True) \n",
    "data.rename(columns = {'total_orders_of_this_product' : 'rating'}, inplace = True)\n",
    "# data['rating'] = 5\n",
    "data.head()"
   ]
  },
  {
   "cell_type": "code",
   "execution_count": 18,
   "metadata": {
    "colab": {
     "base_uri": "https://localhost:8080/"
    },
    "id": "JirqY1kUHAaH",
    "outputId": "154b6acd-96b3-4da0-bdf9-ef8e776fa50d",
    "scrolled": true
   },
   "outputs": [
    {
     "name": "stdout",
     "output_type": "stream",
     "text": [
      "Number of users: 275845\n",
      "Number of items: 1302\n"
     ]
    }
   ],
   "source": [
    "train_set = cornac.data.Dataset.from_uir(data.itertuples(index=False), seed=SEED)\n",
    "\n",
    "print('Number of users: {}'.format(train_set.num_users))\n",
    "print('Number of items: {}'.format(train_set.num_items))"
   ]
  },
  {
   "cell_type": "code",
   "execution_count": 21,
   "metadata": {
    "id": "WCJRbFliHAaJ"
   },
   "outputs": [],
   "source": [
    "bpr = cornac.models.BPR(\n",
    "    k=NUM_FACTORS,\n",
    "    max_iter=NUM_EPOCHS,\n",
    "    learning_rate=0.001,\n",
    "    lambda_reg=0.001,\n",
    "    verbose=True,\n",
    "    seed=SEED\n",
    ")"
   ]
  },
  {
   "cell_type": "code",
   "execution_count": 22,
   "metadata": {
    "colab": {
     "base_uri": "https://localhost:8080/",
     "height": 100,
     "referenced_widgets": [
      "2d9608d4240a47a0937f9fc99d8bb848",
      "8099cfac322e4b35a6b68f57897a3fe2",
      "b53be17df527480ba62d07b6260ec62d",
      "ec27686a0f464319bfe2deaa19894e9c",
      "3f01f2eec42b4afdbcf32ffa0575d801",
      "b36494c9191b49adb7a4ecdd2ade79f1",
      "0db07604c2944d99b564064769e59d6e",
      "6ccf2a42ad8448d1a712d90790f5cfcb"
     ]
    },
    "id": "N-gRsTylHAaJ",
    "outputId": "1589229b-78b9-4b6b-d8a6-e342f518c203"
   },
   "outputs": [
    {
     "data": {
      "application/vnd.jupyter.widget-view+json": {
       "model_id": "583932b1b80f48b88cb5539fbf36144e",
       "version_major": 2,
       "version_minor": 0
      },
      "text/plain": [
       "  0%|          | 0/250 [00:00<?, ?it/s]"
      ]
     },
     "metadata": {},
     "output_type": "display_data"
    },
    {
     "name": "stdout",
     "output_type": "stream",
     "text": [
      "Optimization finished!\n",
      "Took 1873.3578 seconds for training.\n"
     ]
    }
   ],
   "source": [
    "with Timer() as t:\n",
    "    bpr.fit(train_set)\n",
    "print(\"Took {} seconds for training.\".format(t))"
   ]
  },
  {
   "cell_type": "code",
   "execution_count": 23,
   "metadata": {},
   "outputs": [],
   "source": [
    "import pickle \n",
    "with open(\"./trained/bprmodel250k1500u11000blr1e-3.pkl\", 'wb') as f:\n",
    "    pickle.dump(bpr, f)"
   ]
  },
  {
   "cell_type": "code",
   "execution_count": 3,
   "metadata": {},
   "outputs": [],
   "source": [
    "# import pickle \n",
    "# bpr = pickle.load(open(\"./trained/bprmodel300e.pkl\", 'rb'))"
   ]
  },
  {
   "cell_type": "code",
   "execution_count": 28,
   "metadata": {
    "colab": {
     "base_uri": "https://localhost:8080/",
     "height": 350
    },
    "id": "kDzNU9LrHAaK",
    "outputId": "00a3ea23-c6c4-419e-ec69-ee98ac37a56e"
   },
   "outputs": [
    {
     "name": "stdout",
     "output_type": "stream",
     "text": [
      "Took 10.3078 seconds for prediction.\n"
     ]
    }
   ],
   "source": [
    "users = pd.read_csv('test_users_final.csv')\n",
    "\n",
    "with Timer() as t:\n",
    "    all_predictions = predict_ranking(bpr, users, usercol='userID', itemcol='itemID')\n",
    "print(\"Took {} seconds for prediction.\".format(t))"
   ]
  },
  {
   "cell_type": "code",
   "execution_count": 29,
   "metadata": {
    "scrolled": true
   },
   "outputs": [
    {
     "data": {
      "text/html": [
       "<div>\n",
       "<style scoped>\n",
       "    .dataframe tbody tr th:only-of-type {\n",
       "        vertical-align: middle;\n",
       "    }\n",
       "\n",
       "    .dataframe tbody tr th {\n",
       "        vertical-align: top;\n",
       "    }\n",
       "\n",
       "    .dataframe thead th {\n",
       "        text-align: right;\n",
       "    }\n",
       "</style>\n",
       "<table border=\"1\" class=\"dataframe\">\n",
       "  <thead>\n",
       "    <tr style=\"text-align: right;\">\n",
       "      <th></th>\n",
       "      <th>userID</th>\n",
       "      <th>itemID</th>\n",
       "      <th>prediction</th>\n",
       "    </tr>\n",
       "  </thead>\n",
       "  <tbody>\n",
       "    <tr>\n",
       "      <th>12929565</th>\n",
       "      <td>54</td>\n",
       "      <td>3</td>\n",
       "      <td>2.893706</td>\n",
       "    </tr>\n",
       "    <tr>\n",
       "      <th>12929566</th>\n",
       "      <td>54</td>\n",
       "      <td>5</td>\n",
       "      <td>0.646097</td>\n",
       "    </tr>\n",
       "    <tr>\n",
       "      <th>12929567</th>\n",
       "      <td>54</td>\n",
       "      <td>35</td>\n",
       "      <td>2.657943</td>\n",
       "    </tr>\n",
       "    <tr>\n",
       "      <th>12929568</th>\n",
       "      <td>54</td>\n",
       "      <td>39</td>\n",
       "      <td>1.396566</td>\n",
       "    </tr>\n",
       "    <tr>\n",
       "      <th>12929569</th>\n",
       "      <td>54</td>\n",
       "      <td>51</td>\n",
       "      <td>0.891097</td>\n",
       "    </tr>\n",
       "  </tbody>\n",
       "</table>\n",
       "</div>"
      ],
      "text/plain": [
       "          userID  itemID  prediction\n",
       "12929565      54       3    2.893706\n",
       "12929566      54       5    0.646097\n",
       "12929567      54      35    2.657943\n",
       "12929568      54      39    1.396566\n",
       "12929569      54      51    0.891097"
      ]
     },
     "execution_count": 29,
     "metadata": {},
     "output_type": "execute_result"
    }
   ],
   "source": [
    "tempdf = pd.concat(\n",
    "            [\n",
    "                data[['userID', 'itemID']],\n",
    "                pd.DataFrame(\n",
    "                    data=np.ones(data.shape[0]), columns=[\"dummycol\"], index=data.index\n",
    "                ),\n",
    "            ],\n",
    "            axis=1,\n",
    "        )\n",
    "merged = pd.merge(tempdf, all_predictions, on=['userID', 'itemID'], how=\"outer\")\n",
    "del tempdf\n",
    "# del data\n",
    "# del all_predictions\n",
    "merged = merged[merged[\"dummycol\"].isnull()].drop(\"dummycol\", axis=1)\n",
    "merged.head()"
   ]
  },
  {
   "cell_type": "code",
   "execution_count": 30,
   "metadata": {
    "scrolled": true
   },
   "outputs": [
    {
     "data": {
      "text/html": [
       "<div>\n",
       "<style scoped>\n",
       "    .dataframe tbody tr th:only-of-type {\n",
       "        vertical-align: middle;\n",
       "    }\n",
       "\n",
       "    .dataframe tbody tr th {\n",
       "        vertical-align: top;\n",
       "    }\n",
       "\n",
       "    .dataframe thead th {\n",
       "        text-align: right;\n",
       "    }\n",
       "</style>\n",
       "<table border=\"1\" class=\"dataframe\">\n",
       "  <thead>\n",
       "    <tr style=\"text-align: right;\">\n",
       "      <th>num</th>\n",
       "      <th>userID</th>\n",
       "      <th>rec1</th>\n",
       "      <th>rec2</th>\n",
       "      <th>rec3</th>\n",
       "      <th>rec4</th>\n",
       "      <th>rec5</th>\n",
       "      <th>rec6</th>\n",
       "      <th>rec7</th>\n",
       "      <th>rec8</th>\n",
       "      <th>rec9</th>\n",
       "      <th>rec10</th>\n",
       "    </tr>\n",
       "  </thead>\n",
       "  <tbody>\n",
       "    <tr>\n",
       "      <th>0</th>\n",
       "      <td>54</td>\n",
       "      <td>2838</td>\n",
       "      <td>2419</td>\n",
       "      <td>2700</td>\n",
       "      <td>6487</td>\n",
       "      <td>4205</td>\n",
       "      <td>65</td>\n",
       "      <td>751</td>\n",
       "      <td>3</td>\n",
       "      <td>2136</td>\n",
       "      <td>1026</td>\n",
       "    </tr>\n",
       "    <tr>\n",
       "      <th>1</th>\n",
       "      <td>56</td>\n",
       "      <td>251</td>\n",
       "      <td>438</td>\n",
       "      <td>901</td>\n",
       "      <td>1401</td>\n",
       "      <td>349</td>\n",
       "      <td>280</td>\n",
       "      <td>257</td>\n",
       "      <td>4</td>\n",
       "      <td>1595</td>\n",
       "      <td>51</td>\n",
       "    </tr>\n",
       "    <tr>\n",
       "      <th>2</th>\n",
       "      <td>69</td>\n",
       "      <td>853</td>\n",
       "      <td>319</td>\n",
       "      <td>511</td>\n",
       "      <td>290</td>\n",
       "      <td>70</td>\n",
       "      <td>41</td>\n",
       "      <td>280</td>\n",
       "      <td>2026</td>\n",
       "      <td>213</td>\n",
       "      <td>455</td>\n",
       "    </tr>\n",
       "    <tr>\n",
       "      <th>3</th>\n",
       "      <td>107</td>\n",
       "      <td>471</td>\n",
       "      <td>992</td>\n",
       "      <td>623</td>\n",
       "      <td>173</td>\n",
       "      <td>2771</td>\n",
       "      <td>4189</td>\n",
       "      <td>1133</td>\n",
       "      <td>2136</td>\n",
       "      <td>6481</td>\n",
       "      <td>1432</td>\n",
       "    </tr>\n",
       "    <tr>\n",
       "      <th>4</th>\n",
       "      <td>147</td>\n",
       "      <td>434</td>\n",
       "      <td>68</td>\n",
       "      <td>931</td>\n",
       "      <td>2503</td>\n",
       "      <td>3</td>\n",
       "      <td>155</td>\n",
       "      <td>563</td>\n",
       "      <td>471</td>\n",
       "      <td>319</td>\n",
       "      <td>1998</td>\n",
       "    </tr>\n",
       "    <tr>\n",
       "      <th>5</th>\n",
       "      <td>192</td>\n",
       "      <td>280</td>\n",
       "      <td>236</td>\n",
       "      <td>257</td>\n",
       "      <td>39</td>\n",
       "      <td>51</td>\n",
       "      <td>931</td>\n",
       "      <td>70</td>\n",
       "      <td>853</td>\n",
       "      <td>1401</td>\n",
       "      <td>226</td>\n",
       "    </tr>\n",
       "    <tr>\n",
       "      <th>6</th>\n",
       "      <td>199</td>\n",
       "      <td>3</td>\n",
       "      <td>39</td>\n",
       "      <td>789</td>\n",
       "      <td>349</td>\n",
       "      <td>51</td>\n",
       "      <td>198</td>\n",
       "      <td>320</td>\n",
       "      <td>114</td>\n",
       "      <td>477</td>\n",
       "      <td>466</td>\n",
       "    </tr>\n",
       "    <tr>\n",
       "      <th>7</th>\n",
       "      <td>224</td>\n",
       "      <td>931</td>\n",
       "      <td>251</td>\n",
       "      <td>438</td>\n",
       "      <td>238</td>\n",
       "      <td>639</td>\n",
       "      <td>407</td>\n",
       "      <td>80</td>\n",
       "      <td>51</td>\n",
       "      <td>2204</td>\n",
       "      <td>538</td>\n",
       "    </tr>\n",
       "    <tr>\n",
       "      <th>8</th>\n",
       "      <td>229</td>\n",
       "      <td>1375</td>\n",
       "      <td>693</td>\n",
       "      <td>1253</td>\n",
       "      <td>1672</td>\n",
       "      <td>507</td>\n",
       "      <td>414</td>\n",
       "      <td>319</td>\n",
       "      <td>180</td>\n",
       "      <td>51</td>\n",
       "      <td>2698</td>\n",
       "    </tr>\n",
       "    <tr>\n",
       "      <th>9</th>\n",
       "      <td>272</td>\n",
       "      <td>2838</td>\n",
       "      <td>826</td>\n",
       "      <td>492</td>\n",
       "      <td>653</td>\n",
       "      <td>4400</td>\n",
       "      <td>931</td>\n",
       "      <td>198</td>\n",
       "      <td>40</td>\n",
       "      <td>39</td>\n",
       "      <td>1424</td>\n",
       "    </tr>\n",
       "    <tr>\n",
       "      <th>10</th>\n",
       "      <td>275</td>\n",
       "      <td>39</td>\n",
       "      <td>51</td>\n",
       "      <td>853</td>\n",
       "      <td>601</td>\n",
       "      <td>280</td>\n",
       "      <td>213</td>\n",
       "      <td>243</td>\n",
       "      <td>1133</td>\n",
       "      <td>2136</td>\n",
       "      <td>751</td>\n",
       "    </tr>\n",
       "    <tr>\n",
       "      <th>11</th>\n",
       "      <td>291</td>\n",
       "      <td>4</td>\n",
       "      <td>319</td>\n",
       "      <td>2011</td>\n",
       "      <td>51</td>\n",
       "      <td>198</td>\n",
       "      <td>311</td>\n",
       "      <td>104</td>\n",
       "      <td>410</td>\n",
       "      <td>407</td>\n",
       "      <td>564</td>\n",
       "    </tr>\n",
       "    <tr>\n",
       "      <th>12</th>\n",
       "      <td>302</td>\n",
       "      <td>251</td>\n",
       "      <td>349</td>\n",
       "      <td>280</td>\n",
       "      <td>51</td>\n",
       "      <td>319</td>\n",
       "      <td>710</td>\n",
       "      <td>853</td>\n",
       "      <td>446</td>\n",
       "      <td>249</td>\n",
       "      <td>257</td>\n",
       "    </tr>\n",
       "    <tr>\n",
       "      <th>13</th>\n",
       "      <td>307</td>\n",
       "      <td>39</td>\n",
       "      <td>51</td>\n",
       "      <td>257</td>\n",
       "      <td>319</td>\n",
       "      <td>50</td>\n",
       "      <td>468</td>\n",
       "      <td>407</td>\n",
       "      <td>70</td>\n",
       "      <td>589</td>\n",
       "      <td>957</td>\n",
       "    </tr>\n",
       "    <tr>\n",
       "      <th>14</th>\n",
       "      <td>308</td>\n",
       "      <td>280</td>\n",
       "      <td>213</td>\n",
       "      <td>319</td>\n",
       "      <td>957</td>\n",
       "      <td>1552</td>\n",
       "      <td>921</td>\n",
       "      <td>1745</td>\n",
       "      <td>198</td>\n",
       "      <td>516</td>\n",
       "      <td>4964</td>\n",
       "    </tr>\n",
       "  </tbody>\n",
       "</table>\n",
       "</div>"
      ],
      "text/plain": [
       "num  userID  rec1  rec2  rec3  rec4  rec5  rec6  rec7  rec8  rec9  rec10\n",
       "0        54  2838  2419  2700  6487  4205    65   751     3  2136   1026\n",
       "1        56   251   438   901  1401   349   280   257     4  1595     51\n",
       "2        69   853   319   511   290    70    41   280  2026   213    455\n",
       "3       107   471   992   623   173  2771  4189  1133  2136  6481   1432\n",
       "4       147   434    68   931  2503     3   155   563   471   319   1998\n",
       "5       192   280   236   257    39    51   931    70   853  1401    226\n",
       "6       199     3    39   789   349    51   198   320   114   477    466\n",
       "7       224   931   251   438   238   639   407    80    51  2204    538\n",
       "8       229  1375   693  1253  1672   507   414   319   180    51   2698\n",
       "9       272  2838   826   492   653  4400   931   198    40    39   1424\n",
       "10      275    39    51   853   601   280   213   243  1133  2136    751\n",
       "11      291     4   319  2011    51   198   311   104   410   407    564\n",
       "12      302   251   349   280    51   319   710   853   446   249    257\n",
       "13      307    39    51   257   319    50   468   407    70   589    957\n",
       "14      308   280   213   319   957  1552   921  1745   198   516   4964"
      ]
     },
     "execution_count": 30,
     "metadata": {},
     "output_type": "execute_result"
    }
   ],
   "source": [
    "merged_u = merged.groupby(by='userID', sort=False)['prediction'].apply(lambda grp: grp.nlargest(10)).reset_index(name='prediction').set_index('level_1')\n",
    "merged_i = merged_u.merge(merged[['itemID']], left_index=True, right_index=True)\n",
    "del merged_u\n",
    "merged_i.drop(columns=['prediction'], inplace=True) \n",
    "\n",
    "a = np.array(['rec1', 'rec2', 'rec3', 'rec4', 'rec5', 'rec6', 'rec7', 'rec8', 'rec9', 'rec10'])\n",
    "merged_i = merged_i.assign(num=a[np.arange(len(merged_i)) % len(a)])\n",
    "\n",
    "merged_i = merged_i.pivot(index='userID', columns='num', values='itemID').reset_index()\n",
    "merged_f = merged_i[['userID', 'rec1', 'rec2', 'rec3', 'rec4', 'rec5', 'rec6', 'rec7', 'rec8', 'rec9', 'rec10']]\n",
    "merged_f.head(15)"
   ]
  },
  {
   "cell_type": "code",
   "execution_count": 31,
   "metadata": {},
   "outputs": [
    {
     "data": {
      "text/plain": [
       "10000"
      ]
     },
     "execution_count": 31,
     "metadata": {},
     "output_type": "execute_result"
    }
   ],
   "source": [
    "len(merged_i.index)"
   ]
  },
  {
   "cell_type": "code",
   "execution_count": 32,
   "metadata": {},
   "outputs": [
    {
     "data": {
      "text/plain": [
       "False"
      ]
     },
     "execution_count": 32,
     "metadata": {},
     "output_type": "execute_result"
    }
   ],
   "source": [
    "merged_f.isnull().values.any()"
   ]
  },
  {
   "cell_type": "code",
   "execution_count": 33,
   "metadata": {},
   "outputs": [],
   "source": [
    "merged_f.to_csv('/media/actrec/DATA/submits/androbaza_14.csv', index=False)"
   ]
  }
 ],
 "metadata": {
  "celltoolbar": "Tags",
  "colab": {
   "name": "Copy of cornac_bpr_deep_dive.ipynb",
   "provenance": [],
   "toc_visible": true
  },
  "kernelspec": {
   "display_name": "Python (reco_gpu)",
   "language": "python",
   "name": "my_env_name"
  },
  "language_info": {
   "codemirror_mode": {
    "name": "ipython",
    "version": 3
   },
   "file_extension": ".py",
   "mimetype": "text/x-python",
   "name": "python",
   "nbconvert_exporter": "python",
   "pygments_lexer": "ipython3",
   "version": "3.6.11"
  },
  "widgets": {
   "application/vnd.jupyter.widget-state+json": {
    "0db07604c2944d99b564064769e59d6e": {
     "model_module": "@jupyter-widgets/controls",
     "model_name": "DescriptionStyleModel",
     "state": {
      "_model_module": "@jupyter-widgets/controls",
      "_model_module_version": "1.5.0",
      "_model_name": "DescriptionStyleModel",
      "_view_count": null,
      "_view_module": "@jupyter-widgets/base",
      "_view_module_version": "1.2.0",
      "_view_name": "StyleView",
      "description_width": ""
     }
    },
    "2d9608d4240a47a0937f9fc99d8bb848": {
     "model_module": "@jupyter-widgets/controls",
     "model_name": "HBoxModel",
     "state": {
      "_dom_classes": [],
      "_model_module": "@jupyter-widgets/controls",
      "_model_module_version": "1.5.0",
      "_model_name": "HBoxModel",
      "_view_count": null,
      "_view_module": "@jupyter-widgets/controls",
      "_view_module_version": "1.5.0",
      "_view_name": "HBoxView",
      "box_style": "",
      "children": [
       "IPY_MODEL_b53be17df527480ba62d07b6260ec62d",
       "IPY_MODEL_ec27686a0f464319bfe2deaa19894e9c"
      ],
      "layout": "IPY_MODEL_8099cfac322e4b35a6b68f57897a3fe2"
     }
    },
    "3f01f2eec42b4afdbcf32ffa0575d801": {
     "model_module": "@jupyter-widgets/controls",
     "model_name": "ProgressStyleModel",
     "state": {
      "_model_module": "@jupyter-widgets/controls",
      "_model_module_version": "1.5.0",
      "_model_name": "ProgressStyleModel",
      "_view_count": null,
      "_view_module": "@jupyter-widgets/base",
      "_view_module_version": "1.2.0",
      "_view_name": "StyleView",
      "bar_color": null,
      "description_width": "initial"
     }
    },
    "6ccf2a42ad8448d1a712d90790f5cfcb": {
     "model_module": "@jupyter-widgets/base",
     "model_name": "LayoutModel",
     "state": {
      "_model_module": "@jupyter-widgets/base",
      "_model_module_version": "1.2.0",
      "_model_name": "LayoutModel",
      "_view_count": null,
      "_view_module": "@jupyter-widgets/base",
      "_view_module_version": "1.2.0",
      "_view_name": "LayoutView",
      "align_content": null,
      "align_items": null,
      "align_self": null,
      "border": null,
      "bottom": null,
      "display": null,
      "flex": null,
      "flex_flow": null,
      "grid_area": null,
      "grid_auto_columns": null,
      "grid_auto_flow": null,
      "grid_auto_rows": null,
      "grid_column": null,
      "grid_gap": null,
      "grid_row": null,
      "grid_template_areas": null,
      "grid_template_columns": null,
      "grid_template_rows": null,
      "height": null,
      "justify_content": null,
      "justify_items": null,
      "left": null,
      "margin": null,
      "max_height": null,
      "max_width": null,
      "min_height": null,
      "min_width": null,
      "object_fit": null,
      "object_position": null,
      "order": null,
      "overflow": null,
      "overflow_x": null,
      "overflow_y": null,
      "padding": null,
      "right": null,
      "top": null,
      "visibility": null,
      "width": null
     }
    },
    "8099cfac322e4b35a6b68f57897a3fe2": {
     "model_module": "@jupyter-widgets/base",
     "model_name": "LayoutModel",
     "state": {
      "_model_module": "@jupyter-widgets/base",
      "_model_module_version": "1.2.0",
      "_model_name": "LayoutModel",
      "_view_count": null,
      "_view_module": "@jupyter-widgets/base",
      "_view_module_version": "1.2.0",
      "_view_name": "LayoutView",
      "align_content": null,
      "align_items": null,
      "align_self": null,
      "border": null,
      "bottom": null,
      "display": null,
      "flex": null,
      "flex_flow": null,
      "grid_area": null,
      "grid_auto_columns": null,
      "grid_auto_flow": null,
      "grid_auto_rows": null,
      "grid_column": null,
      "grid_gap": null,
      "grid_row": null,
      "grid_template_areas": null,
      "grid_template_columns": null,
      "grid_template_rows": null,
      "height": null,
      "justify_content": null,
      "justify_items": null,
      "left": null,
      "margin": null,
      "max_height": null,
      "max_width": null,
      "min_height": null,
      "min_width": null,
      "object_fit": null,
      "object_position": null,
      "order": null,
      "overflow": null,
      "overflow_x": null,
      "overflow_y": null,
      "padding": null,
      "right": null,
      "top": null,
      "visibility": null,
      "width": null
     }
    },
    "b36494c9191b49adb7a4ecdd2ade79f1": {
     "model_module": "@jupyter-widgets/base",
     "model_name": "LayoutModel",
     "state": {
      "_model_module": "@jupyter-widgets/base",
      "_model_module_version": "1.2.0",
      "_model_name": "LayoutModel",
      "_view_count": null,
      "_view_module": "@jupyter-widgets/base",
      "_view_module_version": "1.2.0",
      "_view_name": "LayoutView",
      "align_content": null,
      "align_items": null,
      "align_self": null,
      "border": null,
      "bottom": null,
      "display": null,
      "flex": null,
      "flex_flow": null,
      "grid_area": null,
      "grid_auto_columns": null,
      "grid_auto_flow": null,
      "grid_auto_rows": null,
      "grid_column": null,
      "grid_gap": null,
      "grid_row": null,
      "grid_template_areas": null,
      "grid_template_columns": null,
      "grid_template_rows": null,
      "height": null,
      "justify_content": null,
      "justify_items": null,
      "left": null,
      "margin": null,
      "max_height": null,
      "max_width": null,
      "min_height": null,
      "min_width": null,
      "object_fit": null,
      "object_position": null,
      "order": null,
      "overflow": null,
      "overflow_x": null,
      "overflow_y": null,
      "padding": null,
      "right": null,
      "top": null,
      "visibility": null,
      "width": null
     }
    },
    "b53be17df527480ba62d07b6260ec62d": {
     "model_module": "@jupyter-widgets/controls",
     "model_name": "FloatProgressModel",
     "state": {
      "_dom_classes": [],
      "_model_module": "@jupyter-widgets/controls",
      "_model_module_version": "1.5.0",
      "_model_name": "FloatProgressModel",
      "_view_count": null,
      "_view_module": "@jupyter-widgets/controls",
      "_view_module_version": "1.5.0",
      "_view_name": "ProgressView",
      "bar_style": "success",
      "description": "100%",
      "description_tooltip": null,
      "layout": "IPY_MODEL_b36494c9191b49adb7a4ecdd2ade79f1",
      "max": 100,
      "min": 0,
      "orientation": "horizontal",
      "style": "IPY_MODEL_3f01f2eec42b4afdbcf32ffa0575d801",
      "value": 100
     }
    },
    "ec27686a0f464319bfe2deaa19894e9c": {
     "model_module": "@jupyter-widgets/controls",
     "model_name": "HTMLModel",
     "state": {
      "_dom_classes": [],
      "_model_module": "@jupyter-widgets/controls",
      "_model_module_version": "1.5.0",
      "_model_name": "HTMLModel",
      "_view_count": null,
      "_view_module": "@jupyter-widgets/controls",
      "_view_module_version": "1.5.0",
      "_view_name": "HTMLView",
      "description": "",
      "description_tooltip": null,
      "layout": "IPY_MODEL_6ccf2a42ad8448d1a712d90790f5cfcb",
      "placeholder": "​",
      "style": "IPY_MODEL_0db07604c2944d99b564064769e59d6e",
      "value": " 100/100 [46:37&lt;00:00, 27.98s/it, correct=97.16%, skipped=3.65%]"
     }
    }
   }
  }
 },
 "nbformat": 4,
 "nbformat_minor": 1
}
